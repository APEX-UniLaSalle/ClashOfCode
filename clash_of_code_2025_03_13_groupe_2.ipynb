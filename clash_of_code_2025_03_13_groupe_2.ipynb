{
  "nbformat": 4,
  "nbformat_minor": 0,
  "metadata": {
    "colab": {
      "provenance": [],
      "collapsed_sections": [
        "BPTZFpAneg62",
        "GGHNTji0hju5",
        "wq4Oz9QrgRoS",
        "pbJdDrLvflUh",
        "mfyB_n7Duc0x",
        "Sy7BaPIAoBYc",
        "6FnWOBzioFuD",
        "TtcFvznqrQPe",
        "JsXE0p9rrhCG",
        "U1OJUILTrwjH"
      ],
      "include_colab_link": true
    },
    "kernelspec": {
      "name": "python3",
      "display_name": "Python 3"
    },
    "language_info": {
      "name": "python"
    }
  },
  "cells": [
    {
      "cell_type": "markdown",
      "metadata": {
        "id": "view-in-github",
        "colab_type": "text"
      },
      "source": [
        "<a href=\"https://colab.research.google.com/github/APEX-UniLaSalle/ClashOfCode/blob/main/clash_of_code_2025_03_13_groupe_2.ipynb\" target=\"_parent\"><img src=\"https://colab.research.google.com/assets/colab-badge.svg\" alt=\"Open In Colab\"/></a>"
      ]
    },
    {
      "cell_type": "markdown",
      "source": [
        "# Clash 1"
      ],
      "metadata": {
        "id": "BPTZFpAneg62"
      }
    },
    {
      "cell_type": "markdown",
      "source": [
        "## Enoncé"
      ],
      "metadata": {
        "id": "GGHNTji0hju5"
      }
    },
    {
      "cell_type": "markdown",
      "source": [
        "The arithmetic mean (or mean or average) is the most commonly used and readily understood measure of central tendency. In statistics, the term average refers to any of the measures of central tendency. The arithmetic mean is defined as being equal to the sum of the numerical values of each and every observation divided by the total number of observations.\n",
        "\n",
        "For this mission, you are given a non-empty list of natural numbers. You must compute their arithmetic mean.\n",
        "\n",
        "### Entrée\n",
        "Line 1: The number of values in the list, ``N``\n",
        "\n",
        "Line 2: ``N`` space separated integers (each called ``X``)\n",
        "### Sortie\n",
        "Line 1: The arithmetic mean of the list as a float or an integer\n",
        "\n",
        "### Contraintes\n",
        "2 ≤ ``N`` ≤ 100\n",
        "\n",
        "-1000 < ``X`` < 1000\n",
        "### Exemple\n",
        "#### Entrée\n",
        "``10``\n",
        "\n",
        "``1 10 2 9 3 8 4 7 5 6``\n",
        "#### Sortie\n",
        "``5.5``"
      ],
      "metadata": {
        "id": "Y0Yp7rPChxvS"
      }
    },
    {
      "cell_type": "markdown",
      "source": [
        "## Correction \"classique\""
      ],
      "metadata": {
        "id": "wq4Oz9QrgRoS"
      }
    },
    {
      "cell_type": "code",
      "execution_count": null,
      "metadata": {
        "colab": {
          "base_uri": "https://localhost:8080/"
        },
        "id": "oo9colV9dI-z",
        "outputId": "144119b4-ccc5-479c-8832-1967a837c22e"
      },
      "outputs": [
        {
          "output_type": "stream",
          "name": "stdout",
          "text": [
            "10\n",
            "['1', '10', '2', '9', '3', '8', '4', '7', '5', '6']\n",
            "1\n",
            "11\n",
            "13\n",
            "22\n",
            "25\n",
            "33\n",
            "37\n",
            "44\n",
            "49\n",
            "55\n",
            "5\n",
            "5.5\n"
          ]
        }
      ],
      "source": [
        "import sys\n",
        "import math\n",
        "\n",
        "input_line_1 = \"10\"\n",
        "input_line_2 = \"1 10 2 9 3 8 4 7 5 6\"\n",
        "\n",
        "sum = 0\n",
        "#n = int(input())\n",
        "n = int(input_line_1)\n",
        "print(input_line_1)\n",
        "\n",
        "print(input_line_2.split())\n",
        "#for i in input().split():\n",
        "for i in input_line_2.split():\n",
        "    sum += int(i)\n",
        "    print(sum)\n",
        "\n",
        "print(sum//n)\n",
        "\n",
        "if (round(sum/n) == (sum/n)):\n",
        "    print (int(sum/n))\n",
        "else:\n",
        "    print(sum/n)"
      ]
    },
    {
      "cell_type": "markdown",
      "source": [
        "## Correction avec fonction"
      ],
      "metadata": {
        "id": "pbJdDrLvflUh"
      }
    },
    {
      "cell_type": "code",
      "source": [
        "import sys\n",
        "import math\n",
        "import statistics\n",
        "\n",
        "def mean(number_of_values, values_list):\n",
        "    # Début partie à coder dans Coderpad\n",
        "    sum = 0\n",
        "    n = int(number_of_values)\n",
        "    for i in values_list.split():\n",
        "        sum += int(i)\n",
        "    if (round(sum/n) == (sum/n)):\n",
        "        return(int(sum/n))\n",
        "    else:\n",
        "        return(sum/n)\n",
        "    # Fin partie à coder dans Coderpad\n",
        "\n",
        "input_line_1 = \"10\"\n",
        "input_line_2 = \"1 10 2 9 3 8 4 7 5 6\"\n",
        "\n",
        "result = mean(input_line_1, input_line_2)\n",
        "print(statistics.mean(map(int, input_line_2.split())))\n",
        "print(result)"
      ],
      "metadata": {
        "colab": {
          "base_uri": "https://localhost:8080/"
        },
        "id": "qVmpWWrSfqlJ",
        "outputId": "b4ffdb31-83bc-44b5-c7d5-97c853c1a42a"
      },
      "execution_count": null,
      "outputs": [
        {
          "output_type": "stream",
          "name": "stdout",
          "text": [
            "5.5\n",
            "5.5\n"
          ]
        }
      ]
    },
    {
      "cell_type": "markdown",
      "source": [
        "## Correction condensée\n"
      ],
      "metadata": {
        "id": "mfyB_n7Duc0x"
      }
    },
    {
      "cell_type": "code",
      "source": [
        "import sys\n",
        "import math\n",
        "import statistics\n",
        "\n",
        "input_line_1 = \"10\"\n",
        "input_line_2 = \"1 10 2 9 3 8 4 7 5 6\"\n",
        "\n",
        "print(statistics.mean(map(int, input_line_2.split())))"
      ],
      "metadata": {
        "colab": {
          "base_uri": "https://localhost:8080/"
        },
        "id": "yegNxA0Quhih",
        "outputId": "e22dda69-ec56-4d00-8492-7609298848dc"
      },
      "execution_count": null,
      "outputs": [
        {
          "output_type": "stream",
          "name": "stdout",
          "text": [
            "5.5\n"
          ]
        }
      ]
    },
    {
      "cell_type": "markdown",
      "source": [
        "# Clash 2"
      ],
      "metadata": {
        "id": "Sy7BaPIAoBYc"
      }
    },
    {
      "cell_type": "markdown",
      "source": [
        "## Enoncé"
      ],
      "metadata": {
        "id": "6FnWOBzioFuD"
      }
    },
    {
      "cell_type": "markdown",
      "source": [
        "You are a general in the military and you should determine whether a person must go to the military or not, you will be given their age and gender, male M or female F.\n",
        "\n",
        "- print ``May go to the military`` if the person is 18-35 year old male\n",
        "\n",
        "- print ``Can't go to the military`` if the person is a female, or a male who is under 18\n",
        "\n",
        "- print ``Was already in the military`` if the person is a male who is over 35\n",
        "\n",
        "### Entrée\n",
        "Line 1: a string ``g``: their gender M or F\n",
        "\n",
        "Line 2: an integer ``a``: their age\n",
        "### Sortie\n",
        "``a`` string s: The status of the person\n",
        "### Contraintes\n",
        "100>``a``>0\n",
        "### Exemple\n",
        "#### Entrée\n",
        "``M``\n",
        "\n",
        "``9``\n",
        "#### Sortie\n",
        "``Can't go to the military``"
      ],
      "metadata": {
        "id": "bW2SzhezoJMD"
      }
    },
    {
      "cell_type": "markdown",
      "source": [
        "## Correction \"classique\""
      ],
      "metadata": {
        "id": "TtcFvznqrQPe"
      }
    },
    {
      "cell_type": "code",
      "source": [
        "#g=input()\n",
        "g='M'\n",
        "#a=int(input())\n",
        "a=int(\"9\")\n",
        "if(g=='F' or a<18):\n",
        "    print(\"Can't go to the military\")\n",
        "elif(a>35):\n",
        "    print(\"Was already in the military\")\n",
        "else:\n",
        "    print(\"May go to the military\")"
      ],
      "metadata": {
        "colab": {
          "base_uri": "https://localhost:8080/"
        },
        "id": "ytvtctrHpN47",
        "outputId": "c606c22d-8b3d-4496-9f63-e2358b902369"
      },
      "execution_count": null,
      "outputs": [
        {
          "output_type": "stream",
          "name": "stdout",
          "text": [
            "Can't go to the military\n"
          ]
        }
      ]
    },
    {
      "cell_type": "markdown",
      "source": [
        "## Correction condensée"
      ],
      "metadata": {
        "id": "JsXE0p9rrhCG"
      }
    },
    {
      "cell_type": "code",
      "source": [
        "#g,a=input(),int(input())\n",
        "g,a='M',int(\"9\")\n",
        "m=\" the military\"\n",
        "t=\" go to\"+m\n",
        "print(\"Can't\"+t if g=='F'or a<18 else\"Was already in\"+m if a>35 else\"May\"+t)"
      ],
      "metadata": {
        "colab": {
          "base_uri": "https://localhost:8080/"
        },
        "id": "bjClzK9IqKSM",
        "outputId": "f793039c-40ae-48b6-e58c-8ac4810692e9"
      },
      "execution_count": null,
      "outputs": [
        {
          "output_type": "stream",
          "name": "stdout",
          "text": [
            "Can't go to the military\n"
          ]
        }
      ]
    },
    {
      "cell_type": "markdown",
      "source": [
        "## Correction avec fonction"
      ],
      "metadata": {
        "id": "U1OJUILTrwjH"
      }
    },
    {
      "cell_type": "code",
      "source": [
        "def military(gender,age):\n",
        "    m=\" the military\"\n",
        "    t=\" go to\"+m\n",
        "    return(\"Can't\"+t if g=='F'or a<18 else\"Was already in\"+m if a>35 else\"May\"+t)\n",
        "\n",
        "#g,a=input(),int(input())\n",
        "g,a='M',int(\"9\")\n",
        "print(military(g,a))"
      ],
      "metadata": {
        "colab": {
          "base_uri": "https://localhost:8080/"
        },
        "id": "8GxlRNowuAK4",
        "outputId": "1a3ee255-e8b3-4352-e4ab-a55af721a562"
      },
      "execution_count": null,
      "outputs": [
        {
          "output_type": "stream",
          "name": "stdout",
          "text": [
            "Can't go to the military\n"
          ]
        }
      ]
    }
  ]
}