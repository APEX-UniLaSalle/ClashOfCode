{
  "nbformat": 4,
  "nbformat_minor": 0,
  "metadata": {
    "colab": {
      "provenance": [],
      "collapsed_sections": [
        "WPzALTTa9N0Q",
        "tWmt0jzz9QdJ",
        "IfIy5Gvc9ThI",
        "NP3CZpwB9QBI",
        "3h2EVA_9DfC3",
        "LqfecsY4DiM_",
        "9Ufzi8cvDlkG",
        "7lWOmXMmGJw1",
        "8YOGKmw9Jvq6",
        "YzyZ0JgUJ0Ha",
        "qoU2oT94M0Gi",
        "7RMcjV2tJ3Xx"
      ],
      "include_colab_link": true
    },
    "kernelspec": {
      "name": "python3",
      "display_name": "Python 3"
    },
    "language_info": {
      "name": "python"
    }
  },
  "cells": [
    {
      "cell_type": "markdown",
      "metadata": {
        "id": "view-in-github",
        "colab_type": "text"
      },
      "source": [
        "<a href=\"https://colab.research.google.com/github/APEX-UniLaSalle/ClashOfCode/blob/main/clash_of_code_2025_03_18_groupe_2.ipynb\" target=\"_parent\"><img src=\"https://colab.research.google.com/assets/colab-badge.svg\" alt=\"Open In Colab\"/></a>"
      ]
    },
    {
      "cell_type": "markdown",
      "source": [
        "# Clash 1"
      ],
      "metadata": {
        "id": "TLulvMxr9K_A"
      }
    },
    {
      "cell_type": "markdown",
      "source": [
        "## Enoncé"
      ],
      "metadata": {
        "id": "WPzALTTa9N0Q"
      }
    },
    {
      "cell_type": "markdown",
      "source": [
        "Ben, here, needs a calculator to calculate ``+``, ``-``, ``*``, ``/`` for two one-digit numbers. Please help him design a calculator to solve his problem.\n",
        "\n",
        "** No divisions by zero will appear in the test cases **\n",
        "\n",
        "### Entrée\n",
        "Line 1: A line line that contains a one-digit number ``a``, an ``operator``, and another one-digit number ``b``.\n",
        "### Sortie\n",
        "Line 1: The result of the operation, rounded to the nearest integer.\n",
        "### Contraintes\n",
        "0 <= ``a`` <= 9\n",
        "0 <= ``b`` <= 9\n",
        "### Exemple\n",
        "#### Entrée\n",
        "``1*3``\n",
        "#### Sortie\n",
        "``3``"
      ],
      "metadata": {
        "id": "pTSyiXGO9Wjp"
      }
    },
    {
      "cell_type": "markdown",
      "source": [
        "## Correction classique"
      ],
      "metadata": {
        "id": "tWmt0jzz9QdJ"
      }
    },
    {
      "cell_type": "code",
      "source": [
        "import math\n",
        "\n",
        "# line = input()\n",
        "line = \"6*7\"\n",
        "\n",
        "print(line[0])\n",
        "print(line[1])\n",
        "print(line[2])\n",
        "\n",
        "if line[1] == '*':\n",
        "    print (int(line[0]) * int(line[2]))\n",
        "elif line[1] == '-':\n",
        "    print (int(line[0]) - int(line[2]))\n",
        "elif line[1] == '+':\n",
        "    print (int(line[0]) + int(line[2]))\n",
        "else:\n",
        "    print (math.ceil(int(line[0]) / int(line[2])))"
      ],
      "metadata": {
        "colab": {
          "base_uri": "https://localhost:8080/"
        },
        "id": "OtrX21jQ9KoR",
        "outputId": "6151138f-4e6c-476d-9aff-409fa5db158d"
      },
      "execution_count": null,
      "outputs": [
        {
          "output_type": "stream",
          "name": "stdout",
          "text": [
            "6\n",
            "*\n",
            "7\n",
            "42\n"
          ]
        }
      ]
    },
    {
      "cell_type": "markdown",
      "source": [
        "## Correction avec fonction (et avec le match / case)\n",
        "https://www.freecodecamp.org/news/python-switch-statement-switch-case-example/"
      ],
      "metadata": {
        "id": "IfIy5Gvc9ThI"
      }
    },
    {
      "cell_type": "code",
      "execution_count": null,
      "metadata": {
        "colab": {
          "base_uri": "https://localhost:8080/"
        },
        "id": "Wjc4XZ0D9Gt-",
        "outputId": "277d5e39-f7a9-487c-9585-8f0b87a7f96b"
      },
      "outputs": [
        {
          "output_type": "stream",
          "name": "stdout",
          "text": [
            "42\n"
          ]
        }
      ],
      "source": [
        "import math\n",
        "\n",
        "def calc (input):\n",
        "  match line[1]:\n",
        "    case '*':\n",
        "      return (int(line[0]) * int(line[2]))\n",
        "    case '-':\n",
        "      return (int(line[0]) - int(line[2]))\n",
        "    case '+':\n",
        "      return (int(line[0]) + int(line[2]))\n",
        "    case _:\n",
        "      return (math.ceil(int(line[0]) / int(line[2])))\n",
        "\n",
        "# line = input()\n",
        "line = \"6*7\"\n",
        "print(calc(line))"
      ]
    },
    {
      "cell_type": "markdown",
      "source": [
        "## Correction pour les maîtres python"
      ],
      "metadata": {
        "id": "NP3CZpwB9QBI"
      }
    },
    {
      "cell_type": "code",
      "source": [
        "# line = input()\n",
        "line = \"6*7\"\n",
        "\n",
        "print (math.ceil(eval(line)))"
      ],
      "metadata": {
        "colab": {
          "base_uri": "https://localhost:8080/"
        },
        "id": "p5QcTBwN_Bb2",
        "outputId": "086b0077-1aa2-4fbe-e340-9ac6bf9b5b10"
      },
      "execution_count": null,
      "outputs": [
        {
          "output_type": "stream",
          "name": "stdout",
          "text": [
            "42\n"
          ]
        }
      ]
    },
    {
      "cell_type": "markdown",
      "source": [
        "# Clash 2"
      ],
      "metadata": {
        "id": "RsbgT0F-DcXe"
      }
    },
    {
      "cell_type": "markdown",
      "source": [
        "## Enoncé"
      ],
      "metadata": {
        "id": "3h2EVA_9DfC3"
      }
    },
    {
      "cell_type": "markdown",
      "source": [
        "You borrowed ``N`` dollars from the bank. The compound interest accrues ``I`` % each month. You will pay the interest in ``M`` months. Then how many $s you have to pay to the bank after ``M`` months ?\n",
        "\n",
        "The result will be always an integer.\n",
        "\n",
        "### Entrée\n",
        "Line 1: Integers ``N``, ``I``, ``M``\n",
        "### Sortie\n",
        "Line 1: The amount of the money you have to pay to the bank\n",
        "### Contraintes\n",
        "0 ≤ ``N`` ≤ 10000\n",
        "0 ≤ ``I`` ≤ 100\n",
        "0 ≤ ``M`` ≤ 12\n",
        "0 ≤ the result ≤ 10000\n",
        "### Exemple\n",
        "#### Entrée\n",
        "``200 50 2``\n",
        "#### Sortie\n",
        "``450``"
      ],
      "metadata": {
        "id": "8Kq9hpuLDg1H"
      }
    },
    {
      "cell_type": "markdown",
      "source": [
        "## Correction classique"
      ],
      "metadata": {
        "id": "LqfecsY4DiM_"
      }
    },
    {
      "cell_type": "code",
      "source": [
        "input = \"200 50 2\"\n",
        "print (input)\n",
        "print (input.split())\n",
        "#for i in input.split():\n",
        "#  print (int(i))\n",
        "print ([int(i) for i in input.split()])\n",
        "n, i, m = [int(i) for i in input.split()]\n",
        "print(n, i, m)\n",
        "\n",
        "# n, i, m = [int(i) for i in input().split()]\n",
        "n, i, m = 200, 50, 2\n",
        "\n",
        "for j in range(m):\n",
        "    n+=n*i/100\n",
        "    # n = n + n*i/100\n",
        "\n",
        "print(int(n))"
      ],
      "metadata": {
        "colab": {
          "base_uri": "https://localhost:8080/"
        },
        "id": "TQLOoc_LDlQm",
        "outputId": "986e05e3-9e4e-4f86-e456-be48b7122356"
      },
      "execution_count": null,
      "outputs": [
        {
          "output_type": "stream",
          "name": "stdout",
          "text": [
            "200 50 2\n",
            "['200', '50', '2']\n",
            "[200, 50, 2]\n",
            "200 50 2\n",
            "450\n"
          ]
        }
      ]
    },
    {
      "cell_type": "markdown",
      "source": [
        "## Correction avec fonction"
      ],
      "metadata": {
        "id": "9Ufzi8cvDlkG"
      }
    },
    {
      "cell_type": "code",
      "source": [
        "def bank(sum, interest, month):\n",
        "  for j in range(month):\n",
        "    sum+=sum*interest/100\n",
        "  return int(sum)\n",
        "\n",
        "print(bank(200, 50, 2))"
      ],
      "metadata": {
        "colab": {
          "base_uri": "https://localhost:8080/"
        },
        "id": "lgwV4SlzDn_2",
        "outputId": "10921519-87e8-4a11-c96f-010b3287d839"
      },
      "execution_count": null,
      "outputs": [
        {
          "output_type": "stream",
          "name": "stdout",
          "text": [
            "450\n"
          ]
        }
      ]
    },
    {
      "cell_type": "markdown",
      "source": [
        "## Correction pour les traders\n",
        "https://www.monpetitplacement.fr/epargne/calcul-interets"
      ],
      "metadata": {
        "id": "7lWOmXMmGJw1"
      }
    },
    {
      "cell_type": "code",
      "source": [
        "# n, i, m = [int(i) for i in input().split()]\n",
        "n, i, m = 200, 50, 2\n",
        "\n",
        "print (round(n * (i / 100 + 1) ** m))"
      ],
      "metadata": {
        "colab": {
          "base_uri": "https://localhost:8080/"
        },
        "id": "ruBI6DRpGMRU",
        "outputId": "b1e4c2d9-8170-4f26-c219-27640e5ffeef"
      },
      "execution_count": null,
      "outputs": [
        {
          "output_type": "stream",
          "name": "stdout",
          "text": [
            "450\n"
          ]
        }
      ]
    },
    {
      "cell_type": "markdown",
      "source": [
        "# Clash 3"
      ],
      "metadata": {
        "id": "E8wYi892JsvL"
      }
    },
    {
      "cell_type": "markdown",
      "source": [
        "## Enoncé"
      ],
      "metadata": {
        "id": "8YOGKmw9Jvq6"
      }
    },
    {
      "cell_type": "markdown",
      "source": [
        "Given an integer ``N``, give all its divisors in decreasing order.\n",
        "### Entrée\n",
        "Line 1: An integer ``N``\n",
        "### Sortie\n",
        "Line 1: all divisors (space separated)\n",
        "### Contraintes\n",
        "1 ≤ ``N`` < 100000\n",
        "### Exemple\n",
        "#### Entrée\n",
        "``6``\n",
        "#### Sortie\n",
        "``6 3 2 1``"
      ],
      "metadata": {
        "id": "IjMgTh7eJxb6"
      }
    },
    {
      "cell_type": "markdown",
      "source": [
        "## Correction classique"
      ],
      "metadata": {
        "id": "YzyZ0JgUJ0Ha"
      }
    },
    {
      "cell_type": "code",
      "source": [
        "#n = int(input())\n",
        "n = int(\"6\")\n",
        "\n",
        "result = []\n",
        "for i in range(n, 0, -1):\n",
        "  print(i)\n",
        "  if n // i == n / i:\n",
        "    result.append(str(i))\n",
        "    print(result)\n",
        "\n",
        "print(\" \".join(result))"
      ],
      "metadata": {
        "colab": {
          "base_uri": "https://localhost:8080/"
        },
        "id": "yVcKgIxyJvGq",
        "outputId": "174a1243-0dd3-4276-95ce-d104b8264847"
      },
      "execution_count": null,
      "outputs": [
        {
          "output_type": "stream",
          "name": "stdout",
          "text": [
            "6\n",
            "['6']\n",
            "5\n",
            "4\n",
            "3\n",
            "['6', '3']\n",
            "2\n",
            "['6', '3', '2']\n",
            "1\n",
            "['6', '3', '2', '1']\n",
            "6 3 2 1\n"
          ]
        }
      ]
    },
    {
      "cell_type": "markdown",
      "source": [
        "## Autre solution"
      ],
      "metadata": {
        "id": "qoU2oT94M0Gi"
      }
    },
    {
      "cell_type": "code",
      "source": [
        "#n = int(input())\n",
        "n = int(\"6\")\n",
        "\n",
        "for i in range(n-1):\n",
        "  if n%(n-i)==0:\n",
        "    print(n-i,end=' ')\n",
        "print(1)"
      ],
      "metadata": {
        "colab": {
          "base_uri": "https://localhost:8080/"
        },
        "id": "Rdo0xJScM2XZ",
        "outputId": "0206b9c8-5de4-4e6b-9d63-b3c2af28b5b6"
      },
      "execution_count": null,
      "outputs": [
        {
          "output_type": "stream",
          "name": "stdout",
          "text": [
            "6 3 2 1\n"
          ]
        }
      ]
    },
    {
      "cell_type": "markdown",
      "source": [
        "## Correction avec fonction"
      ],
      "metadata": {
        "id": "7RMcjV2tJ3Xx"
      }
    },
    {
      "cell_type": "code",
      "source": [
        "def divisors(number):\n",
        "  result = []\n",
        "  for i in range(1, n+1):\n",
        "    if n%i==0:\n",
        "      result.append(str(i))\n",
        "  return \" \".join(sorted(result, reverse=True))\n",
        "\n",
        "#n = int(input())\n",
        "n = int(\"6\")\n",
        "print (divisors(n))"
      ],
      "metadata": {
        "colab": {
          "base_uri": "https://localhost:8080/"
        },
        "id": "-E_PWpMaKDD6",
        "outputId": "710e0604-16b7-46a0-e2f7-930cb9ef70dc"
      },
      "execution_count": null,
      "outputs": [
        {
          "output_type": "stream",
          "name": "stdout",
          "text": [
            "6 3 2 1\n"
          ]
        }
      ]
    }
  ]
}