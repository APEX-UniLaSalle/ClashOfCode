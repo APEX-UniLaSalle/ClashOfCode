{
  "nbformat": 4,
  "nbformat_minor": 0,
  "metadata": {
    "colab": {
      "provenance": [],
      "collapsed_sections": [
        "xdt6PgKzafbj",
        "SdMmpOSvbxGQ",
        "JXiOYVhpcDqw",
        "_z_ZDh3ldYEL",
        "cM_hj43jic9I",
        "0p4kwmEai6TZ",
        "w3V3_SGyi-LB",
        "vV7UroWik4Qj",
        "dxXGRRIrnBiF",
        "EAZxHVF3nELV",
        "cCZdOaz_qgMJ",
        "Ipl452fDqjux"
      ],
      "include_colab_link": true
    },
    "kernelspec": {
      "name": "python3",
      "display_name": "Python 3"
    },
    "language_info": {
      "name": "python"
    }
  },
  "cells": [
    {
      "cell_type": "markdown",
      "metadata": {
        "id": "view-in-github",
        "colab_type": "text"
      },
      "source": [
        "<a href=\"https://colab.research.google.com/github/APEX-UniLaSalle/ClashOfCode/blob/main/clash_of_code_2025_03_17_groupe_2.ipynb\" target=\"_parent\"><img src=\"https://colab.research.google.com/assets/colab-badge.svg\" alt=\"Open In Colab\"/></a>"
      ]
    },
    {
      "cell_type": "markdown",
      "source": [
        "# Clash 1"
      ],
      "metadata": {
        "id": "aM9sB3REaYv8"
      }
    },
    {
      "cell_type": "markdown",
      "source": [
        "## Enoncé"
      ],
      "metadata": {
        "id": "xdt6PgKzafbj"
      }
    },
    {
      "cell_type": "markdown",
      "source": [
        "Votre programme doit inverser les lettres de chaque mot d'une phrase donnée en entrée.\n",
        "\n",
        "### Entrée\n",
        "Ligne 1 : Une chaîne de caractères ``S``.\n",
        "\n",
        "### Sortie\n",
        "Une chaîne de caractères dans lequel les caractères de chaques mots séparés par des espaces ont été inversé.\n",
        "\n",
        "### Contraintes\n",
        "``S`` contient au moins 1 caractère.\n",
        "\n",
        "``S`` contient uniquement des caractères alpha-numériques et des espaces.\n",
        "\n",
        "``S`` ne contient pas plusieurs espaces à la suite ni de tabulations.\n",
        "\n",
        "### Exemple\n",
        "#### Entrée\n",
        "``Hello World``\n",
        "#### Sortie\n",
        "``olleH dlroW``\n"
      ],
      "metadata": {
        "id": "t3MbZEA4aiLu"
      }
    },
    {
      "cell_type": "markdown",
      "source": [
        "## Correction classique"
      ],
      "metadata": {
        "id": "SdMmpOSvbxGQ"
      }
    },
    {
      "cell_type": "code",
      "execution_count": null,
      "metadata": {
        "colab": {
          "base_uri": "https://localhost:8080/"
        },
        "id": "sM53HdsEaU9c",
        "outputId": "5e2c87b8-22a9-455f-e588-5a8b58b708f6"
      },
      "outputs": [
        {
          "output_type": "stream",
          "name": "stdout",
          "text": [
            "Etape 1 : on sépare les mots = ['Hello', 'World']\n",
            "Etape 2 : pour chaque mot du tableau on parcours les lettres avec un pas de - 1 = \n",
            "olleH\n",
            "Hello\n",
            "['olleH']\n",
            "World\n",
            "['olleH', 'dlroW']\n",
            "olleH dlroW\n"
          ]
        }
      ],
      "source": [
        "# s = input()\n",
        "s = \"Hello World\"\n",
        "\n",
        "print(\"Etape 1 : on sépare les mots = \", end=\"\")\n",
        "print(s.split())\n",
        "print(\"Etape 2 : pour chaque mot du tableau on parcours les lettres avec un pas de - 1 = \")\n",
        "print(s.split()[0][::-1])\n",
        "\n",
        "reverse_message = []\n",
        "for word in s.split():\n",
        "  print(word)\n",
        "  reverse_message.append(word[::-1])\n",
        "  print(reverse_message)\n",
        "\n",
        "print(\" \".join(reverse_message))"
      ]
    },
    {
      "cell_type": "markdown",
      "source": [
        "## Correction avec fonction"
      ],
      "metadata": {
        "id": "JXiOYVhpcDqw"
      }
    },
    {
      "cell_type": "code",
      "source": [
        "def reverse_string(message):\n",
        "  # Début de votre code\n",
        "  reverse_message = ''\n",
        "  for word in message.split():\n",
        "    reverse_message = reverse_message + word[::-1] + ' '\n",
        "    print(reverse_message)\n",
        "  return reverse_message[:-1]\n",
        "  # Fin de votre code\n",
        "\n",
        "result = reverse_string(\"Hello World\")\n",
        "print(result)"
      ],
      "metadata": {
        "colab": {
          "base_uri": "https://localhost:8080/"
        },
        "id": "o431kBngcLuf",
        "outputId": "b8bccc42-c3c7-4a07-ff85-c84f85049e15"
      },
      "execution_count": null,
      "outputs": [
        {
          "output_type": "stream",
          "name": "stdout",
          "text": [
            "olleH \n",
            "olleH dlroW \n",
            "olleH dlroW\n"
          ]
        }
      ]
    },
    {
      "cell_type": "markdown",
      "source": [
        "## Correction pour les maîtres python"
      ],
      "metadata": {
        "id": "_z_ZDh3ldYEL"
      }
    },
    {
      "cell_type": "code",
      "source": [
        "# s = input()\n",
        "s = \"Hello World\"\n",
        "\n",
        "print(\" \".join(word[::-1] for word in s.split()))"
      ],
      "metadata": {
        "colab": {
          "base_uri": "https://localhost:8080/"
        },
        "id": "yJaw7WcMc97h",
        "outputId": "4295e39f-919d-4ec1-f031-50a685bc26ef"
      },
      "execution_count": null,
      "outputs": [
        {
          "output_type": "stream",
          "name": "stdout",
          "text": [
            "olleH dlroW\n"
          ]
        }
      ]
    },
    {
      "cell_type": "markdown",
      "source": [
        "# Clash 2"
      ],
      "metadata": {
        "id": "1LzTD0Gbialg"
      }
    },
    {
      "cell_type": "markdown",
      "source": [
        "## Enoncé"
      ],
      "metadata": {
        "id": "cM_hj43jic9I"
      }
    },
    {
      "cell_type": "markdown",
      "source": [
        "The Birds Language has only one rule: after each vowel (``a``,``e``,``i``,``o``,``u``,``A``,``E``,``I``,``O``,``U``) you should insert the letter p followed by the vowel one more time. For a given string convert it to Birds Language.\n",
        "### Entrée\n",
        "string ``A`` string which contains ASCII characters.\n",
        "### Sortie\n",
        "string converted to Birds Language.\n",
        "### Contraintes\n",
        "1 < length of string < 1000\n",
        "### Exemple\n",
        "#### Entrée\n",
        "``alex``\n",
        "#### Sortie\n",
        "``apalepex``"
      ],
      "metadata": {
        "id": "29T7BIXciPpx"
      }
    },
    {
      "cell_type": "markdown",
      "source": [
        "## Correction classqiue"
      ],
      "metadata": {
        "id": "0p4kwmEai6TZ"
      }
    },
    {
      "cell_type": "code",
      "source": [
        "# string = input()\n",
        "string = \"loic\"\n",
        "\n",
        "vowels = [\"a\",\"e\",\"i\",\"o\",\"u\",\"A\",\"E\",\"I\",\"O\",\"U\"]\n",
        "for letter in string:\n",
        "  if letter in vowels:\n",
        "    print(letter + \"p\" + letter, end=\"\")\n",
        "  else:\n",
        "    print(letter, end=\"\")"
      ],
      "metadata": {
        "colab": {
          "base_uri": "https://localhost:8080/"
        },
        "id": "WKMmqXFciSWh",
        "outputId": "7f2b9527-1251-4e53-f5a5-0c995d3c911c"
      },
      "execution_count": null,
      "outputs": [
        {
          "output_type": "stream",
          "name": "stdout",
          "text": [
            "lopoipic"
          ]
        }
      ]
    },
    {
      "cell_type": "markdown",
      "source": [
        "## Correction avec fonction"
      ],
      "metadata": {
        "id": "w3V3_SGyi-LB"
      }
    },
    {
      "cell_type": "code",
      "source": [
        "def birds_language(message):\n",
        "  bird_message = ''\n",
        "  for letter in message:\n",
        "    if letter in 'aeiouAEIOU':\n",
        "      bird_message += letter+'p'+letter\n",
        "    else:\n",
        "      bird_message += letter\n",
        "    print(bird_message)\n",
        "  return bird_message\n",
        "\n",
        "print(birds_language(\"julien\"))"
      ],
      "metadata": {
        "colab": {
          "base_uri": "https://localhost:8080/"
        },
        "id": "VJSzrVBjjBpx",
        "outputId": "daec6c67-8590-4742-fe84-cecad0d8c0e2"
      },
      "execution_count": null,
      "outputs": [
        {
          "output_type": "stream",
          "name": "stdout",
          "text": [
            "j\n",
            "jupu\n",
            "jupul\n",
            "jupulipi\n",
            "jupulipiepe\n",
            "jupulipiepen\n",
            "jupulipiepen\n"
          ]
        }
      ]
    },
    {
      "cell_type": "markdown",
      "source": [
        "## Correction pour les maîtres python"
      ],
      "metadata": {
        "id": "vV7UroWik4Qj"
      }
    },
    {
      "cell_type": "code",
      "source": [
        "# string = input()\n",
        "string = \"nicolas priniotakis\"\n",
        "\n",
        "print (\"\".join(letter+\"p\"+letter if (letter in 'aeiouAEIOU') else letter for letter in string))"
      ],
      "metadata": {
        "colab": {
          "base_uri": "https://localhost:8080/"
        },
        "id": "2GLhGp_qkMNp",
        "outputId": "c2d2a772-40e0-4184-93d2-f04f56395455"
      },
      "execution_count": null,
      "outputs": [
        {
          "output_type": "stream",
          "name": "stdout",
          "text": [
            "nipicopolapas pripinipiopotapakipis\n"
          ]
        }
      ]
    },
    {
      "cell_type": "markdown",
      "source": [
        "# Clash 3"
      ],
      "metadata": {
        "id": "Nm3Vvz4Xm-gt"
      }
    },
    {
      "cell_type": "markdown",
      "source": [
        "## Enoncé"
      ],
      "metadata": {
        "id": "dxXGRRIrnBiF"
      }
    },
    {
      "cell_type": "markdown",
      "source": [
        "A word is a palindrome if it is the same word when you read it from right to left or from left to right.\n",
        "\n",
        "Check if the given string word is a palindrome or no\n",
        "\n",
        "Please ignore case of letters : e.g Radar = radaR is a palindrome\n",
        "\n",
        "Our algorithm must return the result ``palindrome``, ``not palindrome`` or ``invalid``.\n",
        "\n",
        "The word is considered ``invalid`` when it contains a number\n",
        "\n",
        "### Entrée\n",
        "Line 1: ``word`` is an input of type string.\n",
        "### Sortie\n",
        "Line 1: Result representing if ``word`` is a palindrome (``palindrome`` or ``not palindrome`` or ``invalid``)\n",
        "### Contraintes\n",
        "2 < word.length < 100\n",
        "### Exemple\n",
        "#### Entrée\n",
        "``ada``\n",
        "#### Sortie\n",
        "``palindrome``"
      ],
      "metadata": {
        "id": "sHHUxnpcnDml"
      }
    },
    {
      "cell_type": "markdown",
      "source": [
        "## Correction classique"
      ],
      "metadata": {
        "id": "EAZxHVF3nELV"
      }
    },
    {
      "cell_type": "code",
      "source": [
        "#word = input()\n",
        "word = \"Radar\"\n",
        "\n",
        "word = word.lower()\n",
        "print(word)\n",
        "\n",
        "if (word.isalpha()):\n",
        "  if (word == word[::-1]):\n",
        "    print(\"palindrome\")\n",
        "  else:\n",
        "    print(\"not palindrome\")\n",
        "else:\n",
        "  print(\"invalid\")\n"
      ],
      "metadata": {
        "colab": {
          "base_uri": "https://localhost:8080/"
        },
        "id": "YChUR5i5pKYo",
        "outputId": "65ff9523-06dc-48f9-a8ba-d7940a9d4940"
      },
      "execution_count": null,
      "outputs": [
        {
          "output_type": "stream",
          "name": "stdout",
          "text": [
            "radar\n",
            "palindrome\n"
          ]
        }
      ]
    },
    {
      "cell_type": "markdown",
      "source": [
        "## Correction avec fonction"
      ],
      "metadata": {
        "id": "cCZdOaz_qgMJ"
      }
    },
    {
      "cell_type": "code",
      "source": [
        "def is_palindrome(word):\n",
        "  is_alpha = True\n",
        "  for letter in word:\n",
        "    if letter in \"0123456789\":\n",
        "      is_alpha = False\n",
        "\n",
        "  if (is_alpha == True):\n",
        "    if (word[:len(word)//2].lower() == word[:len(word)//2:-1].lower()):\n",
        "      return \"palindrome\"\n",
        "    else:\n",
        "      return \"not palindrome\"\n",
        "  else:\n",
        "    return \"invalid\"\n",
        "\n",
        "print(is_palindrome(\"Radar\"))"
      ],
      "metadata": {
        "colab": {
          "base_uri": "https://localhost:8080/"
        },
        "id": "tF_fKgb_qEUx",
        "outputId": "0f52a21c-5bcd-4ed2-eea7-92c14ac6df93"
      },
      "execution_count": null,
      "outputs": [
        {
          "output_type": "stream",
          "name": "stdout",
          "text": [
            "palindrome\n"
          ]
        }
      ]
    },
    {
      "cell_type": "markdown",
      "source": [
        "## Correction pour les maîtres python"
      ],
      "metadata": {
        "id": "Ipl452fDqjux"
      }
    },
    {
      "cell_type": "code",
      "source": [
        "#word = input()\n",
        "word = \"Radar\"\n",
        "\n",
        "print (\"invalid\" if (not(word.isalpha())) else \"palindrome\" if (word.lower() == word[::-1].lower()) else \"not palindrome\")"
      ],
      "metadata": {
        "colab": {
          "base_uri": "https://localhost:8080/"
        },
        "id": "qS_FM_LEql3p",
        "outputId": "382e1353-e715-4c09-defc-9765807d290f"
      },
      "execution_count": null,
      "outputs": [
        {
          "output_type": "stream",
          "name": "stdout",
          "text": [
            "palindrome\n"
          ]
        }
      ]
    }
  ]
}