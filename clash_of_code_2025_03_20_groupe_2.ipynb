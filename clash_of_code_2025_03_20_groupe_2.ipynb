{
  "nbformat": 4,
  "nbformat_minor": 0,
  "metadata": {
    "colab": {
      "provenance": [],
      "include_colab_link": true
    },
    "kernelspec": {
      "name": "python3",
      "display_name": "Python 3"
    },
    "language_info": {
      "name": "python"
    }
  },
  "cells": [
    {
      "cell_type": "markdown",
      "metadata": {
        "id": "view-in-github",
        "colab_type": "text"
      },
      "source": [
        "<a href=\"https://colab.research.google.com/github/APEX-UniLaSalle/ClashOfCode/blob/main/clash_of_code_2025_03_20_groupe_2.ipynb\" target=\"_parent\"><img src=\"https://colab.research.google.com/assets/colab-badge.svg\" alt=\"Open In Colab\"/></a>"
      ]
    },
    {
      "cell_type": "markdown",
      "source": [
        "# Clash 1"
      ],
      "metadata": {
        "id": "ByPyzN6Jeewx"
      }
    },
    {
      "cell_type": "markdown",
      "source": [
        "## Enoncé"
      ],
      "metadata": {
        "id": "lTm6JiBoegxb"
      }
    },
    {
      "cell_type": "markdown",
      "source": [
        "You need to create a program that retrieves all the uppercase letters from a specific text input. However, if there are no uppercase letters found, the program should print the constant value ``None``. Players must reverse engineer the code to find the original uppercase letters or determine that there are none.\n",
        "\n",
        "### Entrée\n",
        "``string``\n",
        "\n",
        "### Sortie\n",
        "``string``\n",
        "\n",
        "### Contraintes\n",
        "\n",
        "### Exemple\n",
        "#### Entrée\n",
        "\n",
        "``abcdABCD``\n",
        "\n",
        "#### Sortie\n",
        "\n",
        "``ABCD``\n",
        "\n"
      ],
      "metadata": {
        "id": "qqG5pudjeiew"
      }
    },
    {
      "cell_type": "markdown",
      "source": [
        "## Correction classique"
      ],
      "metadata": {
        "id": "YYUfour3ejCE"
      }
    },
    {
      "cell_type": "code",
      "source": [
        "#s = input()\n",
        "s = \"abcdABCD\"\n",
        "\n",
        "upper_char=0\n",
        "\n",
        "for c in s:\n",
        "  if c.isupper():\n",
        "    print(c,end='')\n",
        "    upper_char+=1\n",
        "\n",
        "if upper_char==0:\n",
        "  print('None')"
      ],
      "metadata": {
        "colab": {
          "base_uri": "https://localhost:8080/"
        },
        "id": "W4LCW-Akemh7",
        "outputId": "b14eda8b-de0e-4f23-e465-2bf7fd46e7b5"
      },
      "execution_count": null,
      "outputs": [
        {
          "output_type": "stream",
          "name": "stdout",
          "text": [
            "ABCD"
          ]
        }
      ]
    },
    {
      "cell_type": "markdown",
      "source": [
        "## Autre solution"
      ],
      "metadata": {
        "id": "Iz19Qzj1gmwW"
      }
    },
    {
      "cell_type": "code",
      "source": [
        "#s = input()\n",
        "s = \"abcdABCD\"\n",
        "\n",
        "uppercase_letters = []\n",
        "for letter in s:\n",
        "  if letter in \"ABCDEFGHIJKLMNOPQRSTUVWXYZ\":\n",
        "    uppercase_letters.append(letter)\n",
        "\n",
        "if len(uppercase_letters)==0:\n",
        "  print(\"None\")\n",
        "else:\n",
        "  print(\"\".join(uppercase_letters))"
      ],
      "metadata": {
        "colab": {
          "base_uri": "https://localhost:8080/"
        },
        "id": "qFZR9SL6goP7",
        "outputId": "3c31fc38-8334-439f-aa7c-a30aa1f6df9e"
      },
      "execution_count": null,
      "outputs": [
        {
          "output_type": "stream",
          "name": "stdout",
          "text": [
            "ABCD\n"
          ]
        }
      ]
    },
    {
      "cell_type": "markdown",
      "source": [
        "## Encore une autre solution"
      ],
      "metadata": {
        "id": "ufcimIL3iToI"
      }
    },
    {
      "cell_type": "code",
      "source": [
        "#s = input()\n",
        "s = \"abcdABCD\"\n",
        "\n",
        "uppercase_letters = \"\"\n",
        "for letter in s:\n",
        "  # la fonction ord() retourne le code unicode (de la table ascii) d'un charactère\n",
        "  # (ord('A') = 65 et ord('Z') = 90, donc entre 65 et 90 nous sommes entre 'A' et 'Z')\n",
        "  if 64 < ord(letter) < 91 :\n",
        "    uppercase_letters += letter\n",
        "\n",
        "if uppercase_letters == \"\" :\n",
        "  print(None)\n",
        "else :\n",
        "  print(uppercase_letters)"
      ],
      "metadata": {
        "colab": {
          "base_uri": "https://localhost:8080/"
        },
        "id": "rWRIxXGhiV3d",
        "outputId": "8512d1b9-c365-4dc7-c445-d3a10caddf6a"
      },
      "execution_count": null,
      "outputs": [
        {
          "output_type": "stream",
          "name": "stdout",
          "text": [
            "ABCD\n"
          ]
        }
      ]
    },
    {
      "cell_type": "markdown",
      "source": [
        "## Correction avec fonction"
      ],
      "metadata": {
        "id": "8POL5XlvemAa"
      }
    },
    {
      "cell_type": "code",
      "execution_count": null,
      "metadata": {
        "colab": {
          "base_uri": "https://localhost:8080/"
        },
        "id": "hW74K2mGeQkd",
        "outputId": "f9277024-4bf4-46cd-9c24-7f197c374220"
      },
      "outputs": [
        {
          "output_type": "stream",
          "name": "stdout",
          "text": [
            "ABCD\n"
          ]
        }
      ],
      "source": [
        "def only_uppercase_letters(string):\n",
        "  # Début de votre code ici\n",
        "  uppercase_letters = []\n",
        "  for letter in string:\n",
        "    if letter.isalpha() and letter == letter.upper():\n",
        "      uppercase_letters.append(letter)\n",
        "\n",
        "  if (len(uppercase_letters) == 0):\n",
        "    return \"None\"\n",
        "  else:\n",
        "    return ''.join(uppercase_letters)\n",
        "  # Fin de votre code ici\n",
        "\n",
        "#s = input()\n",
        "s = \"abcdABCD\"\n",
        "print(only_uppercase_letters(s))"
      ]
    },
    {
      "cell_type": "markdown",
      "source": [
        "# Clash 2"
      ],
      "metadata": {
        "id": "fJ1gitb_r05B"
      }
    },
    {
      "cell_type": "markdown",
      "source": [
        "## Enoncé"
      ],
      "metadata": {
        "id": "OSzo3Om4r2Ga"
      }
    },
    {
      "cell_type": "markdown",
      "source": [
        "Given two strings ``S`` and ``pattern``, find the smallest substring in ``S`` containing all characters of ``pattern`` efficiently.\n",
        "\n",
        "Example\n",
        "\n",
        "S = \"New String\"\n",
        "\n",
        "pattern = \"rg\"\n",
        "\n",
        "Output = ring\n",
        "### Entrée\n",
        "Line 1 ``S`` is a string.\n",
        "Line 2 ``pattern`` is a string.\n",
        "### Sortie\n",
        "Get the smallest window in a ``S`` containing all characters of given ``pattern``.\n",
        "### Contraintes\n",
        "1<=``S.length``<=100\n",
        "\n",
        "1<``pattern.length``<=2\n",
        "\n",
        "### Exemple\n",
        "#### Entree\n",
        "``Clash of Code``\n",
        "\n",
        "``lC``\n",
        "#### Sortie\n",
        "``Cl``\n",
        "\n"
      ],
      "metadata": {
        "id": "DCsZUFGCor_m"
      }
    },
    {
      "cell_type": "markdown",
      "source": [
        "## Correction classique"
      ],
      "metadata": {
        "id": "ioDr_4vyo1Na"
      }
    },
    {
      "cell_type": "code",
      "source": [
        "# s = input()\n",
        "s = \"Clash of Code\"\n",
        "# pattern = input()\n",
        "pattern = \"lC\"\n",
        "\n",
        "sub_string_list = []\n",
        "\n",
        "for i in range(len(s)):\n",
        "    sub_string = \"\"\n",
        "    if (s[i] == pattern[0]):\n",
        "        sub_string += s[i]\n",
        "\n",
        "        begin_sub_string = True\n",
        "        j = i + 1\n",
        "        while (begin_sub_string and j < len(s)):\n",
        "            sub_string += s[j]\n",
        "            if s[j] == pattern[1]:\n",
        "                begin_sub_string = False\n",
        "            j += 1\n",
        "        if begin_sub_string == False:\n",
        "            sub_string_list.append(sub_string)\n",
        "\n",
        "    if (s[i] == pattern[1]):\n",
        "        sub_string += s[i]\n",
        "\n",
        "        begin_sub_string = True\n",
        "        j = i + 1\n",
        "        while (begin_sub_string and j < len(s)):\n",
        "            sub_string += s[j]\n",
        "            if s[j] == pattern[0]:\n",
        "                begin_sub_string = False\n",
        "            j += 1\n",
        "        if begin_sub_string == False:\n",
        "            sub_string_list.append(sub_string)\n",
        "\n",
        "smallest_len = len(sub_string_list[0])\n",
        "smallest_sub_string = sub_string_list[0]\n",
        "for sub_string in sub_string_list:\n",
        "    if (len(sub_string_list[0]) < smallest_len):\n",
        "        smallest_sub_string = sub_string\n",
        "print(smallest_sub_string)"
      ],
      "metadata": {
        "colab": {
          "base_uri": "https://localhost:8080/"
        },
        "id": "nlKje97Qoriq",
        "outputId": "db626a4a-9964-4bde-cc30-75353eb92fd3"
      },
      "execution_count": null,
      "outputs": [
        {
          "output_type": "stream",
          "name": "stdout",
          "text": [
            "Cl\n"
          ]
        }
      ]
    },
    {
      "cell_type": "markdown",
      "source": [
        "## Seconde solution mais incomplète\n",
        "Fonctionne avec les entrées ``s = \"New string\"`` et ``pattern = \"rg\"`` mais pas avec les entrées ``s = \"Clash of Code\"`` et ``pattern = \"lC\"``"
      ],
      "metadata": {
        "id": "JI5ZE1X2rFBX"
      }
    },
    {
      "cell_type": "code",
      "source": [
        "# s = input()\n",
        "s = \"Clash of Code\"\n",
        "# pattern = input()\n",
        "pattern = \"lC\"\n",
        "\n",
        "a = s.index(pattern[0])\n",
        "b = s.index(pattern[1])\n",
        "\n",
        "print(s[a:b+1])"
      ],
      "metadata": {
        "colab": {
          "base_uri": "https://localhost:8080/"
        },
        "id": "eanxkC4JqnLY",
        "outputId": "36e80b93-ce5d-42a1-9d98-06091670fd3a"
      },
      "execution_count": null,
      "outputs": [
        {
          "output_type": "stream",
          "name": "stdout",
          "text": [
            "\n"
          ]
        }
      ]
    },
    {
      "cell_type": "markdown",
      "source": [
        "# Clash 3"
      ],
      "metadata": {
        "id": "r4J8IRvusdLB"
      }
    },
    {
      "cell_type": "markdown",
      "source": [
        "## Enoncé"
      ],
      "metadata": {
        "id": "f8G9snZVsehQ"
      }
    },
    {
      "cell_type": "markdown",
      "source": [
        "You must reverse the input and swap the cases!\n",
        "\n",
        "### Entrée\n",
        "Line 1 : A string ``string`` to process.\n",
        "\n",
        "### Sortie\n",
        "Line 1: The reversed ``string`` with swapped cases.\n",
        "\n",
        "### Contraintes\n",
        "0 < length of ``string`` <= 50\n",
        "\n",
        "### Exemple\n",
        "#### Entrée\n",
        "``Hello``\n",
        "#### Sortie\n",
        "``OLLEh``\n",
        "\n"
      ],
      "metadata": {
        "id": "OQFsV211sgiY"
      }
    },
    {
      "cell_type": "markdown",
      "source": [
        "## Correction classique"
      ],
      "metadata": {
        "id": "BdQBKOzTslbj"
      }
    },
    {
      "cell_type": "code",
      "source": [
        "# string = input()\n",
        "string = \"Hello World !!!\"\n",
        "\n",
        "reverse_string_case = []\n",
        "for letter in string:\n",
        "  if letter.isupper():\n",
        "    reverse_string_case.append(letter.lower())\n",
        "  else:\n",
        "    reverse_string_case.append(letter.upper())\n",
        "\n",
        "print(reverse_string_case)\n",
        "print(reverse_string_case[::-1])\n",
        "print(''.join(reverse_string_case[::-1]))"
      ],
      "metadata": {
        "colab": {
          "base_uri": "https://localhost:8080/"
        },
        "id": "pcob0RhBsgLq",
        "outputId": "a2f96775-8e85-4bfb-884f-624792af89aa"
      },
      "execution_count": null,
      "outputs": [
        {
          "output_type": "stream",
          "name": "stdout",
          "text": [
            "['h', 'E', 'L', 'L', 'O', ' ', 'w', 'O', 'R', 'L', 'D', ' ', '!', '!', '!']\n",
            "['!', '!', '!', ' ', 'D', 'L', 'R', 'O', 'w', ' ', 'O', 'L', 'L', 'E', 'h']\n",
            "!!! DLROw OLLEh\n"
          ]
        }
      ]
    },
    {
      "cell_type": "markdown",
      "source": [
        "## Correction avec fonction"
      ],
      "metadata": {
        "id": "7idEQpEhs_W6"
      }
    },
    {
      "cell_type": "code",
      "source": [
        "def reverse_case_string(s):\n",
        "  # Début de votre code ici\n",
        "  print(s)\n",
        "  s=s.swapcase()\n",
        "  print(s)\n",
        "  l=list(s)\n",
        "  print(l)\n",
        "  l=reversed(l)\n",
        "  return''.join(l)\n",
        "  # Fin de votre code ici\n",
        "\n",
        "# string = input()\n",
        "string = \"Hello World !!!\"\n",
        "print(reverse_case_string(string))"
      ],
      "metadata": {
        "colab": {
          "base_uri": "https://localhost:8080/"
        },
        "id": "4oZ6ti5rtBTB",
        "outputId": "5dfffba6-9e7a-4f7e-b628-a2576be77538"
      },
      "execution_count": null,
      "outputs": [
        {
          "output_type": "stream",
          "name": "stdout",
          "text": [
            "Hello World !!!\n",
            "hELLO wORLD !!!\n",
            "['h', 'E', 'L', 'L', 'O', ' ', 'w', 'O', 'R', 'L', 'D', ' ', '!', '!', '!']\n",
            "!!! DLROw OLLEh\n"
          ]
        }
      ]
    },
    {
      "cell_type": "markdown",
      "source": [
        "## Correction pour les maîtres python"
      ],
      "metadata": {
        "id": "i7cR0vZDs7UV"
      }
    },
    {
      "cell_type": "code",
      "source": [
        "# string = input()\n",
        "string = \"Hello World !!!\"\n",
        "\n",
        "print(string.swapcase()[::-1])"
      ],
      "metadata": {
        "colab": {
          "base_uri": "https://localhost:8080/"
        },
        "id": "0yt_VD_QscdH",
        "outputId": "2b244fac-ef92-4f67-f6c9-c1d65d40c8b6"
      },
      "execution_count": null,
      "outputs": [
        {
          "output_type": "stream",
          "name": "stdout",
          "text": [
            "!!! DLROw OLLEh\n"
          ]
        }
      ]
    }
  ]
}