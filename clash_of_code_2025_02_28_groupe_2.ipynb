{
  "nbformat": 4,
  "nbformat_minor": 0,
  "metadata": {
    "colab": {
      "provenance": []
    },
    "kernelspec": {
      "name": "python3",
      "display_name": "Python 3"
    },
    "language_info": {
      "name": "python"
    }
  },
  "cells": [
    {
      "cell_type": "markdown",
      "source": [
        "# Clash 1\n",
        "\n",
        "### Objectifs\n",
        "\n",
        "Figure out how much suger Johny ate, given the ```time``` he hook in seconds and the ```speed``` he ate in at grams per minute.\n",
        "\n",
        "Example : If ```time``` is 30 ans ```speed``` is 20, you need to output 10\n",
        "\n",
        "### Entrée :\n",
        "\n",
        "Line 1: An integer ```time``` for the time Johny was eating sugar.\n",
        "\n",
        "Line 2: An integer ```speed``` for the speed he ate at in grams per minute.\n",
        "\n",
        "### Sortie :\n",
        "\n",
        "Line 1 : The amount in grams"
      ],
      "metadata": {
        "id": "Wed8dq-AhyDX"
      }
    },
    {
      "cell_type": "code",
      "execution_count": null,
      "metadata": {
        "colab": {
          "base_uri": "https://localhost:8080/"
        },
        "id": "B58R3TjIhwx8",
        "outputId": "1e5e4f83-b947-4714-d2e7-0b1aed50ced1"
      },
      "outputs": [
        {
          "output_type": "stream",
          "name": "stdout",
          "text": [
            "10\n",
            "10\n"
          ]
        }
      ],
      "source": [
        "#time = int(input())\n",
        "#speed = int(input())\n",
        "\n",
        "time = int(\"30\")\n",
        "speed = int(\"20\")\n",
        "\n",
        "print ((time * speed) // 60)\n",
        "# ou\n",
        "print (int((time * speed) / 60))"
      ]
    },
    {
      "cell_type": "markdown",
      "source": [
        "# Clash 2\n",
        "\n",
        "### Objectifs\n",
        "\n",
        "Le mode de jeu est REVERSE : Vous n'avez pas accès à l'énoncé. Vous devez trouver quoi faire en observant les jeux de tests suivants :\n",
        "\n",
        "### Entrée\n",
        "\n",
        "9\n",
        "\n",
        "### Sortie attendue\n",
        "\n",
        "1\n",
        "3\n",
        "5\n",
        "7\n",
        "9"
      ],
      "metadata": {
        "id": "6rkMVApImyb_"
      }
    },
    {
      "cell_type": "code",
      "source": [
        "# n = int(input())\n",
        "n = int(\"9\")\n",
        "\n",
        "for i in range(n+1):\n",
        "    if i%2 == 1:\n",
        "        print(i)"
      ],
      "metadata": {
        "colab": {
          "base_uri": "https://localhost:8080/"
        },
        "id": "ftaZeIlunDD2",
        "outputId": "97fa456c-ff2b-407f-824a-3288131b3c5a"
      },
      "execution_count": null,
      "outputs": [
        {
          "output_type": "stream",
          "name": "stdout",
          "text": [
            "9\n",
            "1\n",
            "3\n",
            "5\n",
            "7\n",
            "9\n"
          ]
        }
      ]
    },
    {
      "cell_type": "markdown",
      "source": [
        "# Clash 3\n",
        "\n",
        "### Objectifs\n",
        "\n",
        "In a distant land, a treasure map is given to you in the form of a string. The string contains characters representing the directions to follow: N: North S: South E: East W: West Each character indicates a step in that direction. Your task is to determine the final coordinates of the treasure starting from the origin (0, 0). Moving N increases the y-coordinate by 1. Moving S decreases the y-coordinate by 1. Moving E increases the x-coordinate by 1. Moving W decreases the x-coordinate by 1. You need to output the final coordinates as a string in the format \"(x, y)\".\n",
        "\n",
        "### Entrée\n",
        "\n",
        "A single string containing characters N,S,E and W.\n",
        "\n",
        "### Sortie\n",
        "\n",
        "A string representing the final coordinates in the format (x,y)\". Contraintes Exemple Entrée NNESW Sortie (0,1)"
      ],
      "metadata": {
        "id": "VPYEGgBowH2F"
      }
    },
    {
      "cell_type": "code",
      "source": [
        "#directions = input()\n",
        "directions = \"NNESW\"\n",
        "\n",
        "x,y=(0,0)\n",
        "for i in directions:\n",
        "  if i == \"N\":\n",
        "    y+=1\n",
        "  if i == \"S\":\n",
        "    y-=1\n",
        "  if i == \"E\":\n",
        "    x+=1\n",
        "  if i == \"W\":\n",
        "    x-=1\n",
        "print(f'({x},{y})')"
      ],
      "metadata": {
        "colab": {
          "base_uri": "https://localhost:8080/"
        },
        "id": "HNeO5o3dwLNd",
        "outputId": "2cea962a-10f2-48a9-da88-71a97fbfdba2"
      },
      "execution_count": null,
      "outputs": [
        {
          "output_type": "stream",
          "name": "stdout",
          "text": [
            "(0,1)\n"
          ]
        }
      ]
    }
  ]
}