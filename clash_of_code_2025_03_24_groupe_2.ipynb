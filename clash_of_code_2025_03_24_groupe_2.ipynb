{
  "nbformat": 4,
  "nbformat_minor": 0,
  "metadata": {
    "colab": {
      "provenance": [],
      "collapsed_sections": [
        "wKmt7E1nfUa4",
        "Oa94KbDYfWpx",
        "vou9tvpVfYxB",
        "sdJLgIOmhMcY",
        "Fqkv-RS1kQON",
        "I94a9ZNGkgzF",
        "YMrc8uWCfyFt",
        "3UlLpmeIldYA",
        "lH3MSW5UlfQQ",
        "xRF-g5TRlhCu",
        "aLjJvppAndBQ",
        "NtFaBcE-qNY6",
        "qSyyRAUFqPIJ",
        "4uYGq0naqRRZ",
        "jmdedEOyro8-",
        "lrHPgIvyu7zV",
        "kdQOyRKYu8v8",
        "Q-Cxrq10qTiy"
      ],
      "include_colab_link": true
    },
    "kernelspec": {
      "name": "python3",
      "display_name": "Python 3"
    },
    "language_info": {
      "name": "python"
    }
  },
  "cells": [
    {
      "cell_type": "markdown",
      "metadata": {
        "id": "view-in-github",
        "colab_type": "text"
      },
      "source": [
        "<a href=\"https://colab.research.google.com/github/APEX-UniLaSalle/ClashOfCode/blob/main/clash_of_code_2025_03_24_groupe_2.ipynb\" target=\"_parent\"><img src=\"https://colab.research.google.com/assets/colab-badge.svg\" alt=\"Open In Colab\"/></a>"
      ]
    },
    {
      "cell_type": "markdown",
      "source": [
        "# Clash 1"
      ],
      "metadata": {
        "id": "wKmt7E1nfUa4"
      }
    },
    {
      "cell_type": "markdown",
      "source": [
        "## Enoncé"
      ],
      "metadata": {
        "id": "Oa94KbDYfWpx"
      }
    },
    {
      "cell_type": "markdown",
      "source": [
        "Print the sum of the weights of the vowels in a string `S` you're given.\n",
        "\n",
        "The weight of the vowels is as follows:\n",
        "\n",
        "```\n",
        "a=1\n",
        "e=2\n",
        "i=3\n",
        "o=4\n",
        "u=5\n",
        "```\n",
        "\n",
        "Uppercase vowels weigh twice as much.\n",
        "\n",
        "### Entrée\n",
        "Line 1: An string ``S`` with a random amount of characters.\n",
        "\n",
        "### Sortie\n",
        "Line 1 : The sum of the weight of each vowel in ``S``.\n",
        "\n",
        "### Contraintes\n",
        "1 ≤ ``len(S)`` ≤ 128\n",
        "\n",
        "### Exemple\n",
        "#### Entrée\n",
        "``AAA``\n",
        "#### Sortie\n",
        "``6``\n"
      ],
      "metadata": {
        "id": "pDq-3j8Pe_R8"
      }
    },
    {
      "cell_type": "markdown",
      "source": [
        "## Solution classique"
      ],
      "metadata": {
        "id": "vou9tvpVfYxB"
      }
    },
    {
      "cell_type": "code",
      "execution_count": null,
      "metadata": {
        "colab": {
          "base_uri": "https://localhost:8080/"
        },
        "id": "FC1A2rCJc2p6",
        "outputId": "19b13c26-d3c6-4c00-a1b6-26959a252374"
      },
      "outputs": [
        {
          "output_type": "stream",
          "name": "stdout",
          "text": [
            "6\n"
          ]
        }
      ],
      "source": [
        "#s = input()\n",
        "s = \"AAA\"\n",
        "\n",
        "somme = 0\n",
        "for letter in s:\n",
        "  if letter == 'a':\n",
        "    somme += 1\n",
        "  elif letter == 'A':\n",
        "    somme += 2\n",
        "  elif letter == 'e':\n",
        "    somme += 2\n",
        "  elif letter == 'E':\n",
        "    somme += 4\n",
        "  elif letter == 'i':\n",
        "    somme += 3\n",
        "  elif  letter == 'I':\n",
        "    somme += 6\n",
        "  elif letter == 'o':\n",
        "    somme += 4\n",
        "  elif  letter == 'O':\n",
        "    somme += 8\n",
        "  elif letter == 'u':\n",
        "    somme += 5\n",
        "  elif letter == 'U':\n",
        "    somme += 10\n",
        "\n",
        "print(sum)"
      ]
    },
    {
      "cell_type": "markdown",
      "source": [
        "## Solution avec utilisation d'un dictionnaire"
      ],
      "metadata": {
        "id": "sdJLgIOmhMcY"
      }
    },
    {
      "cell_type": "code",
      "source": [
        "#s = input()\n",
        "s = \"AAA\"\n",
        "\n",
        "vowel_weight = {\"a\": 1, \"A\": 2, \"e\": 2, \"E\": 4, \"i\": 3, \"I\": 6, \"o\": 4, \"O\": 8, \"u\": 5, \"U\": 10}\n",
        "somme = 0\n",
        "for letter in s:\n",
        "  if letter in vowel_weight:\n",
        "    somme += vowel_weight[letter]\n",
        "\n",
        "print(somme)"
      ],
      "metadata": {
        "colab": {
          "base_uri": "https://localhost:8080/"
        },
        "id": "6aPFvOfogQTp",
        "outputId": "51625f1a-178a-4fe7-f617-de710f643ce4"
      },
      "execution_count": null,
      "outputs": [
        {
          "output_type": "stream",
          "name": "stdout",
          "text": [
            "6\n"
          ]
        }
      ]
    },
    {
      "cell_type": "markdown",
      "source": [
        "## Solution avec fonction de comptage de caractère"
      ],
      "metadata": {
        "id": "Fqkv-RS1kQON"
      }
    },
    {
      "cell_type": "code",
      "source": [
        "#s = input()\n",
        "s = \"AAA\"\n",
        "\n",
        "a_maj = s.count('A')\n",
        "e_maj = s.count('E')\n",
        "i_maj = s.count('I')\n",
        "o_maj = s.count('O')\n",
        "u_maj = s.count('U')\n",
        "a_min = s.count('a')\n",
        "e_min = s.count('e')\n",
        "i_min = s.count('i')\n",
        "o_min = s.count('o')\n",
        "u_min = s.count('u')\n",
        "print(a_maj*2 + e_maj*4 + i_maj*6 + o_maj*8 + u_maj*10 + a_min*1 + e_min*2 + i_min*3 + o_min*4 + u_min*5)"
      ],
      "metadata": {
        "colab": {
          "base_uri": "https://localhost:8080/"
        },
        "id": "GuGZecFThhFL",
        "outputId": "aa1268bc-90c7-4691-d9f7-d81b3138a873"
      },
      "execution_count": null,
      "outputs": [
        {
          "output_type": "stream",
          "name": "stdout",
          "text": [
            "6\n"
          ]
        }
      ]
    },
    {
      "cell_type": "markdown",
      "source": [
        "## Solution avec dictionnaire et fonction de comptage de caractère"
      ],
      "metadata": {
        "id": "I94a9ZNGkgzF"
      }
    },
    {
      "cell_type": "code",
      "source": [
        "#s = input()\n",
        "s = \"AAA\"\n",
        "\n",
        "vowel_weight = {\"a\": 1, \"A\": 2, \"e\": 2, \"E\": 4, \"i\": 3, \"I\": 6, \"o\": 4, \"O\": 8, \"u\": 5, \"U\": 10}\n",
        "somme = 0\n",
        "for vowel in vowel_weight:\n",
        "  somme += s.count(vowel) * vowel_weight[vowel]\n",
        "\n",
        "print(somme)"
      ],
      "metadata": {
        "colab": {
          "base_uri": "https://localhost:8080/"
        },
        "id": "cfSFeHN9kkKq",
        "outputId": "9ce1c15f-1f45-4e21-b18e-2069bd324210"
      },
      "execution_count": null,
      "outputs": [
        {
          "output_type": "stream",
          "name": "stdout",
          "text": [
            "6\n"
          ]
        }
      ]
    },
    {
      "cell_type": "markdown",
      "source": [
        "## Solution avec fonction"
      ],
      "metadata": {
        "id": "YMrc8uWCfyFt"
      }
    },
    {
      "cell_type": "code",
      "source": [
        "def sum_vowels(string):\n",
        "  somme = 0\n",
        "  for letter in string:\n",
        "    if letter.lower()=='a':\n",
        "      somme += 1\n",
        "      if letter != letter.lower():\n",
        "        somme += 1\n",
        "    elif letter.lower()=='e':\n",
        "      somme += 2\n",
        "      if letter != letter.lower():\n",
        "        somme += 2\n",
        "    elif letter.lower()=='i':\n",
        "      somme += 3\n",
        "      if letter != letter.lower():\n",
        "        somme += 3\n",
        "    elif letter.lower()=='o':\n",
        "      somme += 4\n",
        "      if letter != letter.lower():\n",
        "        somme += 4\n",
        "    elif letter.lower()=='u':\n",
        "      somme += 5\n",
        "      if letter != letter.lower():\n",
        "        somme += 5\n",
        "  return somme\n",
        "\n",
        "\n",
        "#s = input()\n",
        "print(sum_vowels(\"AAA\"))"
      ],
      "metadata": {
        "colab": {
          "base_uri": "https://localhost:8080/"
        },
        "id": "Jti7h4htfz78",
        "outputId": "16b09799-6aa3-4f6f-916e-ff380e1030d7"
      },
      "execution_count": null,
      "outputs": [
        {
          "output_type": "stream",
          "name": "stdout",
          "text": [
            "6\n"
          ]
        }
      ]
    },
    {
      "cell_type": "markdown",
      "source": [
        "# Clash 2"
      ],
      "metadata": {
        "id": "3UlLpmeIldYA"
      }
    },
    {
      "cell_type": "markdown",
      "source": [
        "## Enoncé"
      ],
      "metadata": {
        "id": "lH3MSW5UlfQQ"
      }
    },
    {
      "cell_type": "markdown",
      "source": [
        "You need to calculate the time it takes for a victim to escape a room based on their actions, represented by the following symbols:\n",
        "\n",
        "``.`` → Move forward by 1 step (2 seconds)\n",
        "\n",
        "``<`` → Move backwards by 2 steps (4 seconds)\n",
        "\n",
        "``|`` → Stop for 5 seconds\n",
        "\n",
        "An additional 2 seconds must be added for a final step forward to escape. If the total time is 10 seconds or less, output ``ERROR``. Otherwise, output ``Room Escaped`` followed by the ``total_time`` in seconds.\n",
        "\n",
        "### Entrée\n",
        "``description`` -> contains actions taken to escape the room, represented by symbols\n",
        "### Sortie\n",
        "Line 1: ``Room Escaped``\n",
        "\n",
        "Line 2: ``total_time`` -> total time taken to escape the room in seconds\n",
        "\n",
        "or\n",
        "\n",
        "Line 1: ``ERROR``\n",
        "\n",
        "### Contraintes\n",
        "### Exemple\n",
        "#### Entrée\n",
        "``..<.|.``\n",
        "#### Sortie\n",
        "```\n",
        "Room Escaped\n",
        "19\n",
        "```"
      ],
      "metadata": {
        "id": "Bg0a9Zj9lgjx"
      }
    },
    {
      "cell_type": "markdown",
      "source": [
        "## Solution classique"
      ],
      "metadata": {
        "id": "xRF-g5TRlhCu"
      }
    },
    {
      "cell_type": "code",
      "source": [
        "#description = input()\n",
        "description = \"..<.|.\"\n",
        "\n",
        "seconds = 2\n",
        "for action in description:\n",
        "    if action == \".\":\n",
        "        seconds += 2\n",
        "    elif action == \"<\":\n",
        "        seconds += 4\n",
        "    else:\n",
        "        seconds += 5\n",
        "\n",
        "if (seconds <= 10):\n",
        "    print(\"ERROR\")\n",
        "else:\n",
        "    print(\"Room Escaped\")\n",
        "    print(seconds)"
      ],
      "metadata": {
        "colab": {
          "base_uri": "https://localhost:8080/"
        },
        "id": "nmmsNAuoliuA",
        "outputId": "d6e7a456-c1b5-4ce5-f902-649cf8b3744f"
      },
      "execution_count": null,
      "outputs": [
        {
          "output_type": "stream",
          "name": "stdout",
          "text": [
            "Room Escaped\n",
            "19\n"
          ]
        }
      ]
    },
    {
      "cell_type": "markdown",
      "source": [
        "## Solution avec fonction de comptage de caractère"
      ],
      "metadata": {
        "id": "aLjJvppAndBQ"
      }
    },
    {
      "cell_type": "code",
      "source": [
        "#description = input()\n",
        "description = \"..<.|.\"\n",
        "\n",
        "seconds = description.count(\".\")*2 + description.count(\"<\")*4 + description.count(\"|\")*5 + 2\n",
        "if seconds<=10:\n",
        "  print(\"ERROR\")\n",
        "else :\n",
        "  print(\"Room Escaped\")\n",
        "  print(seconds)"
      ],
      "metadata": {
        "colab": {
          "base_uri": "https://localhost:8080/"
        },
        "id": "hFmM6sg-niA-",
        "outputId": "63f200cd-069d-4e2e-c56b-de9e3c7d9bd5"
      },
      "execution_count": null,
      "outputs": [
        {
          "output_type": "stream",
          "name": "stdout",
          "text": [
            "Room Escaped\n",
            "19\n"
          ]
        }
      ]
    },
    {
      "cell_type": "markdown",
      "source": [
        "## Solution avec fonction"
      ],
      "metadata": {
        "id": "y6aCAwOymcXY"
      }
    },
    {
      "cell_type": "code",
      "source": [
        "def time_to_escape(actions_list):\n",
        "  seconds = 2\n",
        "  for action in description:\n",
        "    if action == \".\":\n",
        "      seconds += 2\n",
        "    elif action == \"<\":\n",
        "      seconds += 4\n",
        "    elif action == \"|\":\n",
        "      seconds += 5\n",
        "  if (seconds <= 10):\n",
        "    return \"ERROR\"\n",
        "  else:\n",
        "    return \"Room Escaped\\n\" + str(seconds)\n",
        "\n",
        "#description = input()\n",
        "print(time_to_escape(\"..<.|.\"))"
      ],
      "metadata": {
        "colab": {
          "base_uri": "https://localhost:8080/"
        },
        "id": "ygJm4O7cmfJ_",
        "outputId": "915e944a-17c2-45d3-a6bc-274560cc0a45"
      },
      "execution_count": null,
      "outputs": [
        {
          "output_type": "stream",
          "name": "stdout",
          "text": [
            "Room Escaped\n",
            "19\n"
          ]
        }
      ]
    },
    {
      "cell_type": "markdown",
      "source": [
        "# Clash 3"
      ],
      "metadata": {
        "id": "NtFaBcE-qNY6"
      }
    },
    {
      "cell_type": "markdown",
      "source": [
        "## Enoncé"
      ],
      "metadata": {
        "id": "qSyyRAUFqPIJ"
      }
    },
    {
      "cell_type": "markdown",
      "source": [
        "Vous devez calculer la somme des nombres pairs ou impairs de 0 une value qui vous est donnée. Le calcul doit se faire en fonction de la variable type qui contient even ou odd\n",
        "\n",
        "### Entrée\n",
        "``type`` : représente le type de calcul à réaliser\n",
        "\n",
        "``value`` : la borne maximum pour le calcul\n",
        "### Sortie\n",
        "Line : la somme des nombres ``type`` entre 0 et ``value``\n",
        "\n",
        "### Contraintes\n",
        "### Exemple\n",
        "#### Entrée\n",
        "```\n",
        "even\n",
        "11\n",
        "```\n",
        "#### Sortie\n",
        "```\n",
        "30\n",
        "```"
      ],
      "metadata": {
        "id": "dAqAM-lxqQ3h"
      }
    },
    {
      "cell_type": "markdown",
      "source": [
        "## Solution classique"
      ],
      "metadata": {
        "id": "4uYGq0naqRRZ"
      }
    },
    {
      "cell_type": "code",
      "source": [
        "t=input()\n",
        "v=int(input())\n",
        "s=0\n",
        "if t==\"even\":\n",
        "    for n in range(v+1):\n",
        "        if n%2==0:\n",
        "            s+=n\n",
        "else:\n",
        "    for n in range(v+1):\n",
        "        if n%2==1:\n",
        "            s+=n\n",
        "print(s)"
      ],
      "metadata": {
        "id": "PTGNgOniqTN5"
      },
      "execution_count": null,
      "outputs": []
    },
    {
      "cell_type": "markdown",
      "source": [
        "## Solution compressée"
      ],
      "metadata": {
        "id": "jmdedEOyro8-"
      }
    },
    {
      "cell_type": "code",
      "source": [
        "#t,v=input(),int(input())\n",
        "t,v=\"even\",11\n",
        "print(sum([n for n in range(v+1) if n % 2 == 1]) if t==\"odd\" else sum([n for n in range(v+1) if n % 2 == 0]))"
      ],
      "metadata": {
        "colab": {
          "base_uri": "https://localhost:8080/"
        },
        "id": "6BmQHtjVrztf",
        "outputId": "511a9ef2-f7e6-4086-a861-fdca40abb579"
      },
      "execution_count": null,
      "outputs": [
        {
          "output_type": "stream",
          "name": "stdout",
          "text": [
            "30\n"
          ]
        }
      ]
    },
    {
      "cell_type": "markdown",
      "source": [
        "## Solution plus compressée"
      ],
      "metadata": {
        "id": "lrHPgIvyu7zV"
      }
    },
    {
      "cell_type": "code",
      "source": [
        "#t,v=input(),int(input())\n",
        "t,v=\"even\",11\n",
        "print(sum([n for n in range('o'in t,v+1,2)]))"
      ],
      "metadata": {
        "colab": {
          "base_uri": "https://localhost:8080/"
        },
        "id": "rpqfLm1YuVfm",
        "outputId": "6ee0e988-18f2-4a10-996a-3bc14daddca5"
      },
      "execution_count": null,
      "outputs": [
        {
          "output_type": "stream",
          "name": "stdout",
          "text": [
            "30\n"
          ]
        }
      ]
    },
    {
      "cell_type": "markdown",
      "source": [
        "## Solution ultra compressée"
      ],
      "metadata": {
        "id": "kdQOyRKYu8v8"
      }
    },
    {
      "cell_type": "code",
      "source": [
        "#t,v=input(),int(input())\n",
        "t,v=\"even\",11\n",
        "print(sum(list(range('o'in t,v+1,2))))"
      ],
      "metadata": {
        "colab": {
          "base_uri": "https://localhost:8080/"
        },
        "id": "4HpQj33JuosU",
        "outputId": "44ee9349-b6e7-4c65-dbec-6dfd979f9d4b"
      },
      "execution_count": null,
      "outputs": [
        {
          "output_type": "stream",
          "name": "stdout",
          "text": [
            "30\n"
          ]
        }
      ]
    },
    {
      "cell_type": "markdown",
      "source": [
        "## Solution avec fonction"
      ],
      "metadata": {
        "id": "Q-Cxrq10qTiy"
      }
    },
    {
      "cell_type": "code",
      "source": [
        "def sum_of_type(type, value):\n",
        "  return sum(list(range('o'in t,v+1,2)))\n",
        "\n",
        "print(sum_of_type(\"even\", 11))"
      ],
      "metadata": {
        "colab": {
          "base_uri": "https://localhost:8080/"
        },
        "id": "r-Ob1FyLqVXx",
        "outputId": "63b565d2-3771-4d20-8a56-8acc6a365d0b"
      },
      "execution_count": null,
      "outputs": [
        {
          "output_type": "stream",
          "name": "stdout",
          "text": [
            "30\n"
          ]
        }
      ]
    }
  ]
}