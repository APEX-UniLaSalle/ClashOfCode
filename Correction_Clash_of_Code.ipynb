{
  "cells": [
    {
      "cell_type": "markdown",
      "metadata": {
        "id": "view-in-github",
        "colab_type": "text"
      },
      "source": [
        "<a href=\"https://colab.research.google.com/github/APEX-UniLaSalle/ClashOfCode/blob/main/Correction_Clash_of_Code.ipynb\" target=\"_parent\"><img src=\"https://colab.research.google.com/assets/colab-badge.svg\" alt=\"Open In Colab\"/></a>"
      ]
    },
    {
      "cell_type": "markdown",
      "id": "9c7c7bd7",
      "metadata": {
        "id": "9c7c7bd7"
      },
      "source": [
        "# Poids des voyelles\n",
        "**Niveau de difficulté :** 🟠 Moyen  \n",
        "**Notions algorithmiques abordées :** accumulateur / somme, boucle, chaînes de caractères"
      ]
    },
    {
      "cell_type": "markdown",
      "id": "1f8cf04f",
      "metadata": {
        "id": "1f8cf04f"
      },
      "source": [
        "## Enoncé"
      ]
    },
    {
      "cell_type": "markdown",
      "id": "6e34ca24",
      "metadata": {
        "id": "6e34ca24"
      },
      "source": [
        "Print the sum of the weights of the vowels in a string `S` you're given.\n",
        "\n",
        "The weight of the vowels is as follows:\n",
        "\n",
        "```\n",
        "a=1\n",
        "e=2\n",
        "i=3\n",
        "o=4\n",
        "u=5\n",
        "```\n",
        "\n",
        "Uppercase vowels weigh twice as much.\n",
        "\n",
        "### Entrée\n",
        "Line 1: An string ``S`` with a random amount of characters.\n",
        "\n",
        "### Sortie\n",
        "Line 1 : The sum of the weight of each vowel in ``S``.\n",
        "\n",
        "### Contraintes\n",
        "1 ≤ ``len(S)`` ≤ 128\n",
        "\n",
        "### Exemple\n",
        "#### Entrée\n",
        "``AAA``\n",
        "#### Sortie\n",
        "``6``\n"
      ]
    },
    {
      "cell_type": "markdown",
      "id": "VighT6PAVFRm",
      "metadata": {
        "id": "VighT6PAVFRm"
      },
      "source": [
        "### A vous de jouer !"
      ]
    },
    {
      "cell_type": "code",
      "execution_count": null,
      "id": "f3780fc6",
      "metadata": {
        "id": "f3780fc6"
      },
      "outputs": [],
      "source": [
        "s = \"AAA\"\n",
        "\n",
        "# Votre code ici..."
      ]
    },
    {
      "cell_type": "markdown",
      "id": "2f1972e9",
      "metadata": {
        "id": "2f1972e9"
      },
      "source": [
        "## Solutions"
      ]
    },
    {
      "cell_type": "markdown",
      "id": "fbd298a8",
      "metadata": {
        "id": "fbd298a8"
      },
      "source": [
        "### Solution classique"
      ]
    },
    {
      "cell_type": "code",
      "execution_count": null,
      "id": "4f4a9e27",
      "metadata": {
        "colab": {
          "base_uri": "https://localhost:8080/"
        },
        "id": "4f4a9e27",
        "outputId": "19b13c26-d3c6-4c00-a1b6-26959a252374"
      },
      "outputs": [
        {
          "name": "stdout",
          "output_type": "stream",
          "text": [
            "6\n"
          ]
        }
      ],
      "source": [
        "#s = input()\n",
        "s = \"AAA\"\n",
        "\n",
        "somme = 0\n",
        "for letter in s:\n",
        "  if letter == 'a':\n",
        "    somme += 1\n",
        "  elif letter == 'A':\n",
        "    somme += 2\n",
        "  elif letter == 'e':\n",
        "    somme += 2\n",
        "  elif letter == 'E':\n",
        "    somme += 4\n",
        "  elif letter == 'i':\n",
        "    somme += 3\n",
        "  elif  letter == 'I':\n",
        "    somme += 6\n",
        "  elif letter == 'o':\n",
        "    somme += 4\n",
        "  elif  letter == 'O':\n",
        "    somme += 8\n",
        "  elif letter == 'u':\n",
        "    somme += 5\n",
        "  elif letter == 'U':\n",
        "    somme += 10\n",
        "\n",
        "print(sum)"
      ]
    },
    {
      "cell_type": "markdown",
      "id": "79a31054",
      "metadata": {
        "id": "79a31054"
      },
      "source": [
        "### Solution avec utilisation d'un dictionnaire"
      ]
    },
    {
      "cell_type": "code",
      "execution_count": null,
      "id": "467818cd",
      "metadata": {
        "colab": {
          "base_uri": "https://localhost:8080/"
        },
        "id": "467818cd",
        "outputId": "51625f1a-178a-4fe7-f617-de710f643ce4"
      },
      "outputs": [
        {
          "name": "stdout",
          "output_type": "stream",
          "text": [
            "6\n"
          ]
        }
      ],
      "source": [
        "#s = input()\n",
        "s = \"AAA\"\n",
        "\n",
        "vowel_weight = {\"a\": 1, \"A\": 2, \"e\": 2, \"E\": 4, \"i\": 3, \"I\": 6, \"o\": 4, \"O\": 8, \"u\": 5, \"U\": 10}\n",
        "somme = 0\n",
        "for letter in s:\n",
        "  if letter in vowel_weight:\n",
        "    somme += vowel_weight[letter]\n",
        "\n",
        "print(somme)"
      ]
    },
    {
      "cell_type": "markdown",
      "id": "4cb6bb63",
      "metadata": {
        "id": "4cb6bb63"
      },
      "source": [
        "### Solution avec fonction de comptage de caractère"
      ]
    },
    {
      "cell_type": "code",
      "execution_count": null,
      "id": "8cf77f98",
      "metadata": {
        "colab": {
          "base_uri": "https://localhost:8080/"
        },
        "id": "8cf77f98",
        "outputId": "aa1268bc-90c7-4691-d9f7-d81b3138a873"
      },
      "outputs": [
        {
          "name": "stdout",
          "output_type": "stream",
          "text": [
            "6\n"
          ]
        }
      ],
      "source": [
        "#s = input()\n",
        "s = \"AAA\"\n",
        "\n",
        "a_maj = s.count('A')\n",
        "e_maj = s.count('E')\n",
        "i_maj = s.count('I')\n",
        "o_maj = s.count('O')\n",
        "u_maj = s.count('U')\n",
        "a_min = s.count('a')\n",
        "e_min = s.count('e')\n",
        "i_min = s.count('i')\n",
        "o_min = s.count('o')\n",
        "u_min = s.count('u')\n",
        "print(a_maj*2 + e_maj*4 + i_maj*6 + o_maj*8 + u_maj*10 + a_min*1 + e_min*2 + i_min*3 + o_min*4 + u_min*5)"
      ]
    },
    {
      "cell_type": "markdown",
      "id": "d3488e33",
      "metadata": {
        "id": "d3488e33"
      },
      "source": [
        "### Solution avec dictionnaire et fonction de comptage de caractère"
      ]
    },
    {
      "cell_type": "code",
      "execution_count": null,
      "id": "49ee3ad7",
      "metadata": {
        "colab": {
          "base_uri": "https://localhost:8080/"
        },
        "id": "49ee3ad7",
        "outputId": "9ce1c15f-1f45-4e21-b18e-2069bd324210"
      },
      "outputs": [
        {
          "name": "stdout",
          "output_type": "stream",
          "text": [
            "6\n"
          ]
        }
      ],
      "source": [
        "#s = input()\n",
        "s = \"AAA\"\n",
        "\n",
        "vowel_weight = {\"a\": 1, \"A\": 2, \"e\": 2, \"E\": 4, \"i\": 3, \"I\": 6, \"o\": 4, \"O\": 8, \"u\": 5, \"U\": 10}\n",
        "somme = 0\n",
        "for vowel in vowel_weight:\n",
        "  somme += s.count(vowel) * vowel_weight[vowel]\n",
        "\n",
        "print(somme)"
      ]
    },
    {
      "cell_type": "markdown",
      "id": "41309168",
      "metadata": {
        "id": "41309168"
      },
      "source": [
        "### Solution avec fonction"
      ]
    },
    {
      "cell_type": "code",
      "execution_count": null,
      "id": "ad008898",
      "metadata": {
        "colab": {
          "base_uri": "https://localhost:8080/"
        },
        "id": "ad008898",
        "outputId": "16b09799-6aa3-4f6f-916e-ff380e1030d7"
      },
      "outputs": [
        {
          "name": "stdout",
          "output_type": "stream",
          "text": [
            "6\n"
          ]
        }
      ],
      "source": [
        "def sum_vowels(string):\n",
        "  somme = 0\n",
        "  for letter in string:\n",
        "    if letter.lower()=='a':\n",
        "      somme += 1\n",
        "      if letter != letter.lower():\n",
        "        somme += 1\n",
        "    elif letter.lower()=='e':\n",
        "      somme += 2\n",
        "      if letter != letter.lower():\n",
        "        somme += 2\n",
        "    elif letter.lower()=='i':\n",
        "      somme += 3\n",
        "      if letter != letter.lower():\n",
        "        somme += 3\n",
        "    elif letter.lower()=='o':\n",
        "      somme += 4\n",
        "      if letter != letter.lower():\n",
        "        somme += 4\n",
        "    elif letter.lower()=='u':\n",
        "      somme += 5\n",
        "      if letter != letter.lower():\n",
        "        somme += 5\n",
        "  return somme\n",
        "\n",
        "\n",
        "#s = input()\n",
        "print(sum_vowels(\"AAA\"))"
      ]
    },
    {
      "cell_type": "markdown",
      "id": "9b2e3230",
      "metadata": {
        "id": "9b2e3230"
      },
      "source": [
        "```"
      ]
    },
    {
      "cell_type": "markdown",
      "id": "1c66X_fdUXca",
      "metadata": {
        "id": "1c66X_fdUXca"
      },
      "source": []
    },
    {
      "cell_type": "markdown",
      "id": "7316fe5e",
      "metadata": {
        "id": "7316fe5e"
      },
      "source": [
        "```"
      ]
    },
    {
      "cell_type": "markdown",
      "id": "15d18e4f",
      "metadata": {
        "id": "15d18e4f"
      },
      "source": [
        "# Escape Game\n",
        "**Niveau de difficulté :** 🟠 Moyen  \n",
        "**Notions algorithmiques abordées :** boucle, condition, chaînes de caractères"
      ]
    },
    {
      "cell_type": "markdown",
      "id": "71bb8c51",
      "metadata": {
        "id": "71bb8c51"
      },
      "source": [
        "## Enoncé"
      ]
    },
    {
      "cell_type": "markdown",
      "id": "6f9df7da",
      "metadata": {
        "id": "6f9df7da"
      },
      "source": [
        "You need to calculate the time it takes for a victim to escape a room based on their actions, represented by the following symbols:\n",
        "\n",
        "``.`` → Move forward by 1 step (2 seconds)\n",
        "\n",
        "``<`` → Move backwards by 2 steps (4 seconds)\n",
        "\n",
        "``|`` → Stop for 5 seconds\n",
        "\n",
        "An additional 2 seconds must be added for a final step forward to escape. If the total time is 10 seconds or less, output ``ERROR``. Otherwise, output ``Room Escaped`` followed by the ``total_time`` in seconds.\n",
        "\n",
        "### Entrée\n",
        "``description`` -> contains actions taken to escape the room, represented by symbols\n",
        "### Sortie\n",
        "Line 1: ``Room Escaped``\n",
        "\n",
        "Line 2: ``total_time`` -> total time taken to escape the room in seconds\n",
        "\n",
        "or\n",
        "\n",
        "Line 1: ``ERROR``\n",
        "\n",
        "### Contraintes\n",
        "### Exemple\n",
        "#### Entrée\n",
        "``..<.|.``\n",
        "#### Sortie\n",
        "```\n",
        "Room Escaped\n",
        "19\n",
        "```"
      ]
    },
    {
      "cell_type": "markdown",
      "id": "imRtlvfFVkUG",
      "metadata": {
        "id": "imRtlvfFVkUG"
      },
      "source": [
        "### A vous de jouer !"
      ]
    },
    {
      "cell_type": "code",
      "execution_count": null,
      "id": "348e8470",
      "metadata": {
        "id": "348e8470"
      },
      "outputs": [],
      "source": [
        "description = \"..<.|.\"\n",
        "\n",
        "# Votre code ici..."
      ]
    },
    {
      "cell_type": "markdown",
      "id": "gwfHAxmzV3oX",
      "metadata": {
        "id": "gwfHAxmzV3oX"
      },
      "source": [
        "## Solutions"
      ]
    },
    {
      "cell_type": "markdown",
      "id": "42d755cc",
      "metadata": {
        "id": "42d755cc"
      },
      "source": [
        "### Solution classique"
      ]
    },
    {
      "cell_type": "code",
      "execution_count": null,
      "id": "8cf8b4b3",
      "metadata": {
        "colab": {
          "base_uri": "https://localhost:8080/"
        },
        "id": "8cf8b4b3",
        "outputId": "d6e7a456-c1b5-4ce5-f902-649cf8b3744f"
      },
      "outputs": [
        {
          "name": "stdout",
          "output_type": "stream",
          "text": [
            "Room Escaped\n",
            "19\n"
          ]
        }
      ],
      "source": [
        "#description = input()\n",
        "description = \"..<.|.\"\n",
        "\n",
        "seconds = 2\n",
        "for action in description:\n",
        "    if action == \".\":\n",
        "        seconds += 2\n",
        "    elif action == \"<\":\n",
        "        seconds += 4\n",
        "    else:\n",
        "        seconds += 5\n",
        "\n",
        "if (seconds <= 10):\n",
        "    print(\"ERROR\")\n",
        "else:\n",
        "    print(\"Room Escaped\")\n",
        "    print(seconds)"
      ]
    },
    {
      "cell_type": "markdown",
      "id": "d3681f01",
      "metadata": {
        "id": "d3681f01"
      },
      "source": [
        "### Solution avec fonction de comptage de caractère"
      ]
    },
    {
      "cell_type": "code",
      "execution_count": null,
      "id": "8fdf658e",
      "metadata": {
        "colab": {
          "base_uri": "https://localhost:8080/"
        },
        "id": "8fdf658e",
        "outputId": "63f200cd-069d-4e2e-c56b-de9e3c7d9bd5"
      },
      "outputs": [
        {
          "name": "stdout",
          "output_type": "stream",
          "text": [
            "Room Escaped\n",
            "19\n"
          ]
        }
      ],
      "source": [
        "#description = input()\n",
        "description = \"..<.|.\"\n",
        "\n",
        "seconds = description.count(\".\")*2 + description.count(\"<\")*4 + description.count(\"|\")*5 + 2\n",
        "if seconds<=10:\n",
        "  print(\"ERROR\")\n",
        "else :\n",
        "  print(\"Room Escaped\")\n",
        "  print(seconds)"
      ]
    },
    {
      "cell_type": "markdown",
      "id": "96927104",
      "metadata": {
        "id": "96927104"
      },
      "source": [
        "### Solution avec fonction"
      ]
    },
    {
      "cell_type": "code",
      "execution_count": null,
      "id": "78bed3df",
      "metadata": {
        "colab": {
          "base_uri": "https://localhost:8080/"
        },
        "id": "78bed3df",
        "outputId": "915e944a-17c2-45d3-a6bc-274560cc0a45"
      },
      "outputs": [
        {
          "name": "stdout",
          "output_type": "stream",
          "text": [
            "Room Escaped\n",
            "19\n"
          ]
        }
      ],
      "source": [
        "def time_to_escape(actions_list):\n",
        "  seconds = 2\n",
        "  for action in description:\n",
        "    if action == \".\":\n",
        "      seconds += 2\n",
        "    elif action == \"<\":\n",
        "      seconds += 4\n",
        "    elif action == \"|\":\n",
        "      seconds += 5\n",
        "  if (seconds <= 10):\n",
        "    return \"ERROR\"\n",
        "  else:\n",
        "    return \"Room Escaped\\n\" + str(seconds)\n",
        "\n",
        "#description = input()\n",
        "print(time_to_escape(\"..<.|.\"))"
      ]
    },
    {
      "cell_type": "markdown",
      "id": "1727cdd0",
      "metadata": {
        "id": "1727cdd0"
      },
      "source": [
        "# Somme pair/impair\n",
        "**Niveau de difficulté :** 🟠 Moyen  \n",
        "**Notions algorithmiques abordées :** accumulateur / somme, fonction"
      ]
    },
    {
      "cell_type": "markdown",
      "id": "959c70ed",
      "metadata": {
        "id": "959c70ed"
      },
      "source": [
        "## Enoncé"
      ]
    },
    {
      "cell_type": "markdown",
      "id": "4c7f68f1",
      "metadata": {
        "id": "4c7f68f1"
      },
      "source": [
        "Vous devez calculer la somme des nombres pairs ou impairs de 0 une value qui vous est donnée. Le calcul doit se faire en fonction de la variable type qui contient even ou odd\n",
        "\n",
        "### Entrée\n",
        "``type`` : représente le type de calcul à réaliser\n",
        "\n",
        "``value`` : la borne maximum pour le calcul\n",
        "### Sortie\n",
        "Line : la somme des nombres ``type`` entre 0 et ``value``\n",
        "\n",
        "### Contraintes\n",
        "### Exemple\n",
        "#### Entrée\n",
        "```\n",
        "even\n",
        "11\n",
        "```\n",
        "#### Sortie\n",
        "```\n",
        "30\n",
        "```"
      ]
    },
    {
      "cell_type": "markdown",
      "id": "9c261be4",
      "metadata": {
        "id": "9c261be4"
      },
      "source": [
        "### A vous de jouer !"
      ]
    },
    {
      "cell_type": "code",
      "execution_count": null,
      "id": "a4aa4b5f",
      "metadata": {
        "id": "a4aa4b5f"
      },
      "outputs": [],
      "source": [
        "t = \"even\"\n",
        "v = 11\n",
        "\n",
        "# Votre code ici..."
      ]
    },
    {
      "cell_type": "markdown",
      "id": "737b2d9b",
      "metadata": {
        "id": "737b2d9b"
      },
      "source": [
        "## Solutions"
      ]
    },
    {
      "cell_type": "markdown",
      "id": "44334d8b",
      "metadata": {
        "id": "44334d8b"
      },
      "source": [
        "### Solution classique"
      ]
    },
    {
      "cell_type": "code",
      "execution_count": null,
      "id": "98ed9a13",
      "metadata": {
        "id": "98ed9a13"
      },
      "outputs": [],
      "source": [
        "t=input()\n",
        "v=int(input())\n",
        "s=0\n",
        "if t==\"even\":\n",
        "    for n in range(v+1):\n",
        "        if n%2==0:\n",
        "            s+=n\n",
        "else:\n",
        "    for n in range(v+1):\n",
        "        if n%2==1:\n",
        "            s+=n\n",
        "print(s)"
      ]
    },
    {
      "cell_type": "markdown",
      "id": "25a6ae76",
      "metadata": {
        "id": "25a6ae76"
      },
      "source": [
        "### Solution compressée"
      ]
    },
    {
      "cell_type": "code",
      "execution_count": null,
      "id": "1a5bc12d",
      "metadata": {
        "colab": {
          "base_uri": "https://localhost:8080/"
        },
        "id": "1a5bc12d",
        "outputId": "511a9ef2-f7e6-4086-a861-fdca40abb579"
      },
      "outputs": [
        {
          "name": "stdout",
          "output_type": "stream",
          "text": [
            "30\n"
          ]
        }
      ],
      "source": [
        "#t,v=input(),int(input())\n",
        "t,v=\"even\",11\n",
        "print(sum([n for n in range(v+1) if n % 2 == 1]) if t==\"odd\" else sum([n for n in range(v+1) if n % 2 == 0]))"
      ]
    },
    {
      "cell_type": "markdown",
      "id": "2ce12cd6",
      "metadata": {
        "id": "2ce12cd6"
      },
      "source": [
        "### Solution plus compressée"
      ]
    },
    {
      "cell_type": "code",
      "execution_count": null,
      "id": "488e6f8c",
      "metadata": {
        "colab": {
          "base_uri": "https://localhost:8080/"
        },
        "id": "488e6f8c",
        "outputId": "6ee0e988-18f2-4a10-996a-3bc14daddca5"
      },
      "outputs": [
        {
          "name": "stdout",
          "output_type": "stream",
          "text": [
            "30\n"
          ]
        }
      ],
      "source": [
        "#t,v=input(),int(input())\n",
        "t,v=\"even\",11\n",
        "print(sum([n for n in range('o'in t,v+1,2)]))"
      ]
    },
    {
      "cell_type": "markdown",
      "id": "ce0fdf9d",
      "metadata": {
        "id": "ce0fdf9d"
      },
      "source": [
        "### Solution ultra compressée"
      ]
    },
    {
      "cell_type": "code",
      "execution_count": null,
      "id": "61231915",
      "metadata": {
        "colab": {
          "base_uri": "https://localhost:8080/"
        },
        "id": "61231915",
        "outputId": "44ee9349-b6e7-4c65-dbec-6dfd979f9d4b"
      },
      "outputs": [
        {
          "name": "stdout",
          "output_type": "stream",
          "text": [
            "30\n"
          ]
        }
      ],
      "source": [
        "#t,v=input(),int(input())\n",
        "t,v=\"even\",11\n",
        "print(sum(list(range('o'in t,v+1,2))))"
      ]
    },
    {
      "cell_type": "markdown",
      "id": "8a7be3bc",
      "metadata": {
        "id": "8a7be3bc"
      },
      "source": [
        "### Solution avec fonction"
      ]
    },
    {
      "cell_type": "code",
      "execution_count": null,
      "id": "e92c48e9",
      "metadata": {
        "colab": {
          "base_uri": "https://localhost:8080/"
        },
        "id": "e92c48e9",
        "outputId": "63b565d2-3771-4d20-8a56-8acc6a365d0b"
      },
      "outputs": [
        {
          "name": "stdout",
          "output_type": "stream",
          "text": [
            "30\n"
          ]
        }
      ],
      "source": [
        "def sum_of_type(type, value):\n",
        "  return sum(list(range('o'in t,v+1,2)))\n",
        "\n",
        "print(sum_of_type(\"even\", 11))"
      ]
    },
    {
      "cell_type": "markdown",
      "id": "1d9ae237",
      "metadata": {
        "id": "1d9ae237"
      },
      "source": [
        "```"
      ]
    },
    {
      "cell_type": "markdown",
      "id": "b461eba2",
      "metadata": {
        "id": "b461eba2"
      },
      "source": [
        "```"
      ]
    },
    {
      "cell_type": "markdown",
      "id": "13c4692b",
      "metadata": {
        "id": "13c4692b"
      },
      "source": [
        "# Inversion de texte\n",
        "**Niveau de difficulté :** 🟠 Moyen  \n",
        "**Notions algorithmiques abordées :** chaînes de caractères, condition, manipulation de chaînes"
      ]
    },
    {
      "cell_type": "markdown",
      "id": "4cc6a3a8",
      "metadata": {
        "id": "4cc6a3a8"
      },
      "source": [
        "## Enoncé"
      ]
    },
    {
      "cell_type": "markdown",
      "id": "ec5db2cc",
      "metadata": {
        "id": "ec5db2cc"
      },
      "source": [
        "You need to create a program that retrieves all the uppercase letters from a specific text input. However, if there are no uppercase letters found, the program should print the constant value ``None``. Players must reverse engineer the code to find the original uppercase letters or determine that there are none.\n",
        "\n",
        "### Entrée\n",
        "``string``\n",
        "\n",
        "### Sortie\n",
        "``string``\n",
        "\n",
        "### Contraintes\n",
        "\n",
        "### Exemple\n",
        "#### Entrée\n",
        "\n",
        "``abcdABCD``\n",
        "\n",
        "#### Sortie\n",
        "\n",
        "``ABCD``\n",
        "\n"
      ]
    },
    {
      "cell_type": "markdown",
      "id": "86b1e75c",
      "metadata": {
        "id": "86b1e75c"
      },
      "source": [
        "### A vous de jouer !"
      ]
    },
    {
      "cell_type": "code",
      "execution_count": null,
      "id": "6f2ae252",
      "metadata": {
        "id": "6f2ae252"
      },
      "outputs": [],
      "source": [
        "s = \"abcdABCD\"\n",
        "\n",
        "# Votre code ici..."
      ]
    },
    {
      "cell_type": "markdown",
      "id": "aa3ed9a9",
      "metadata": {
        "id": "aa3ed9a9"
      },
      "source": [
        "## Solutions"
      ]
    },
    {
      "cell_type": "markdown",
      "id": "2fc3d9d1",
      "metadata": {
        "id": "2fc3d9d1"
      },
      "source": [
        "### Correction classique"
      ]
    },
    {
      "cell_type": "code",
      "execution_count": null,
      "id": "87338447",
      "metadata": {
        "id": "87338447"
      },
      "outputs": [],
      "source": [
        "#s = input()\n",
        "s = \"abcdABCD\"\n",
        "\n",
        "upper_char=0\n",
        "\n",
        "for c in s:\n",
        "  if c.isupper():\n",
        "    print(c,end='')\n",
        "    upper_char+=1\n",
        "\n",
        "if upper_char==0:\n",
        "  print('None')"
      ]
    },
    {
      "cell_type": "markdown",
      "id": "21fa784f",
      "metadata": {
        "id": "21fa784f"
      },
      "source": [
        "### Autre solution"
      ]
    },
    {
      "cell_type": "code",
      "execution_count": null,
      "id": "ec4c75c2",
      "metadata": {
        "colab": {
          "base_uri": "https://localhost:8080/"
        },
        "id": "ec4c75c2",
        "outputId": "3c31fc38-8334-439f-aa7c-a30aa1f6df9e"
      },
      "outputs": [
        {
          "name": "stdout",
          "output_type": "stream",
          "text": [
            "ABCD\n"
          ]
        }
      ],
      "source": [
        "#s = input()\n",
        "s = \"abcdABCD\"\n",
        "\n",
        "uppercase_letters = []\n",
        "for letter in s:\n",
        "  if letter in \"ABCDEFGHIJKLMNOPQRSTUVWXYZ\":\n",
        "    uppercase_letters.append(letter)\n",
        "\n",
        "if len(uppercase_letters)==0:\n",
        "  print(\"None\")\n",
        "else:\n",
        "  print(\"\".join(uppercase_letters))"
      ]
    },
    {
      "cell_type": "markdown",
      "id": "e4fea630",
      "metadata": {
        "id": "e4fea630"
      },
      "source": [
        "### Encore une autre solution"
      ]
    },
    {
      "cell_type": "code",
      "execution_count": null,
      "id": "c98e1221",
      "metadata": {
        "colab": {
          "base_uri": "https://localhost:8080/"
        },
        "id": "c98e1221",
        "outputId": "8512d1b9-c365-4dc7-c445-d3a10caddf6a"
      },
      "outputs": [
        {
          "name": "stdout",
          "output_type": "stream",
          "text": [
            "ABCD\n"
          ]
        }
      ],
      "source": [
        "#s = input()\n",
        "s = \"abcdABCD\"\n",
        "\n",
        "uppercase_letters = \"\"\n",
        "for letter in s:\n",
        "  # la fonction ord() retourne le code unicode (de la table ascii) d'un charactère\n",
        "  # (ord('A') = 65 et ord('Z') = 90, donc entre 65 et 90 nous sommes entre 'A' et 'Z')\n",
        "  if 64 < ord(letter) < 91 :\n",
        "    uppercase_letters += letter\n",
        "\n",
        "if uppercase_letters == \"\" :\n",
        "  print(None)\n",
        "else :\n",
        "  print(uppercase_letters)"
      ]
    },
    {
      "cell_type": "markdown",
      "id": "79e45b1d",
      "metadata": {
        "id": "79e45b1d"
      },
      "source": [
        "### Correction avec fonction"
      ]
    },
    {
      "cell_type": "code",
      "execution_count": null,
      "id": "260d9630",
      "metadata": {
        "colab": {
          "base_uri": "https://localhost:8080/"
        },
        "id": "260d9630",
        "outputId": "f9277024-4bf4-46cd-9c24-7f197c374220"
      },
      "outputs": [
        {
          "name": "stdout",
          "output_type": "stream",
          "text": [
            "ABCD\n"
          ]
        }
      ],
      "source": [
        "def only_uppercase_letters(string):\n",
        "  # Début de votre code ici\n",
        "  uppercase_letters = []\n",
        "  for letter in string:\n",
        "    if letter.isalpha() and letter == letter.upper():\n",
        "      uppercase_letters.append(letter)\n",
        "\n",
        "  if (len(uppercase_letters) == 0):\n",
        "    return \"None\"\n",
        "  else:\n",
        "    return ''.join(uppercase_letters)\n",
        "  # Fin de votre code ici\n",
        "\n",
        "#s = input()\n",
        "s = \"abcdABCD\"\n",
        "print(only_uppercase_letters(s))"
      ]
    },
    {
      "cell_type": "markdown",
      "id": "3b3094ba",
      "metadata": {
        "id": "3b3094ba"
      },
      "source": [
        "# Recherche de motif\n",
        "**Niveau de difficulté :** 🟠 Moyen  \n",
        "\n",
        "**Notions algorithmiques abordées :** chaînes de caractères, recherche de motif"
      ]
    },
    {
      "cell_type": "markdown",
      "id": "deea779f",
      "metadata": {
        "id": "deea779f"
      },
      "source": [
        "## Enoncé"
      ]
    },
    {
      "cell_type": "markdown",
      "id": "33c0b065",
      "metadata": {
        "id": "33c0b065"
      },
      "source": [
        "Given two strings ``S`` and ``pattern``, find the smallest substring in ``S`` containing all characters of ``pattern`` efficiently.\n",
        "\n",
        "Example\n",
        "\n",
        "S = \"New String\"\n",
        "\n",
        "pattern = \"rg\"\n",
        "\n",
        "Output = ring\n",
        "### Entrée\n",
        "Line 1 ``S`` is a string.\n",
        "Line 2 ``pattern`` is a string.\n",
        "### Sortie\n",
        "Get the smallest window in a ``S`` containing all characters of given ``pattern``.\n",
        "### Contraintes\n",
        "1<=``S.length``<=100\n",
        "\n",
        "1<``pattern.length``<=2\n",
        "\n",
        "### Exemple\n",
        "#### Entree\n",
        "``Clash of Code``\n",
        "\n",
        "``lC``\n",
        "#### Sortie\n",
        "``Cl``\n",
        "\n"
      ]
    },
    {
      "cell_type": "markdown",
      "id": "b573a888",
      "metadata": {
        "id": "b573a888"
      },
      "source": [
        "### A vous de jouer !"
      ]
    },
    {
      "cell_type": "code",
      "execution_count": null,
      "id": "46f0d54a",
      "metadata": {
        "id": "46f0d54a"
      },
      "outputs": [],
      "source": [
        "s = \"Clash of Code\"\n",
        "pattern = \"lC\"\n",
        "\n",
        "# Votre code ici..."
      ]
    },
    {
      "cell_type": "markdown",
      "id": "1ce1c15d",
      "metadata": {
        "id": "1ce1c15d"
      },
      "source": [
        "## Solutions"
      ]
    },
    {
      "cell_type": "markdown",
      "id": "d4e33acf",
      "metadata": {
        "id": "d4e33acf"
      },
      "source": [
        "### Correction classique"
      ]
    },
    {
      "cell_type": "code",
      "execution_count": null,
      "id": "42153d06",
      "metadata": {
        "id": "42153d06"
      },
      "outputs": [],
      "source": [
        "# s = input()\n",
        "s = \"Clash of Code\"\n",
        "# pattern = input()\n",
        "pattern = \"lC\"\n",
        "\n",
        "sub_string_list = []\n",
        "\n",
        "for i in range(len(s)):\n",
        "    sub_string = \"\"\n",
        "    if (s[i] == pattern[0]):\n",
        "        sub_string += s[i]\n",
        "\n",
        "        begin_sub_string = True\n",
        "        j = i + 1\n",
        "        while (begin_sub_string and j < len(s)):\n",
        "            sub_string += s[j]\n",
        "            if s[j] == pattern[1]:\n",
        "                begin_sub_string = False\n",
        "            j += 1\n",
        "        if begin_sub_string == False:\n",
        "            sub_string_list.append(sub_string)\n",
        "\n",
        "    if (s[i] == pattern[1]):\n",
        "        sub_string += s[i]\n",
        "\n",
        "        begin_sub_string = True\n",
        "        j = i + 1\n",
        "        while (begin_sub_string and j < len(s)):\n",
        "            sub_string += s[j]\n",
        "            if s[j] == pattern[0]:\n",
        "                begin_sub_string = False\n",
        "            j += 1\n",
        "        if begin_sub_string == False:\n",
        "            sub_string_list.append(sub_string)\n",
        "\n",
        "smallest_len = len(sub_string_list[0])\n",
        "smallest_sub_string = sub_string_list[0]\n",
        "for sub_string in sub_string_list:\n",
        "    if (len(sub_string_list[0]) < smallest_len):\n",
        "        smallest_sub_string = sub_string\n",
        "print(smallest_sub_string)"
      ]
    },
    {
      "cell_type": "markdown",
      "id": "58281e5a",
      "metadata": {
        "id": "58281e5a"
      },
      "source": [
        "### Seconde solution mais incomplète\n",
        "Fonctionne avec les entrées ``s = \"New string\"`` et ``pattern = \"rg\"`` mais pas avec les entrées ``s = \"Clash of Code\"`` et ``pattern = \"lC\"``"
      ]
    },
    {
      "cell_type": "code",
      "execution_count": null,
      "id": "b16ca675",
      "metadata": {
        "colab": {
          "base_uri": "https://localhost:8080/"
        },
        "id": "b16ca675",
        "outputId": "36e80b93-ce5d-42a1-9d98-06091670fd3a"
      },
      "outputs": [
        {
          "name": "stdout",
          "output_type": "stream",
          "text": [
            "\n"
          ]
        }
      ],
      "source": [
        "# s = input()\n",
        "s = \"Clash of Code\"\n",
        "# pattern = input()\n",
        "pattern = \"lC\"\n",
        "\n",
        "a = s.index(pattern[0])\n",
        "b = s.index(pattern[1])\n",
        "\n",
        "print(s[a:b+1])"
      ]
    },
    {
      "cell_type": "markdown",
      "id": "4ab3ed84",
      "metadata": {
        "id": "4ab3ed84"
      },
      "source": [
        "# Inversion de texte\n",
        "\n",
        "**Niveau de difficulté :** 🟠 Moyen  \n",
        "\n",
        "**Notions algorithmiques abordées :** chaînes de caractères, manipulation de chaînes"
      ]
    },
    {
      "cell_type": "markdown",
      "id": "4c3f2715",
      "metadata": {
        "id": "4c3f2715"
      },
      "source": [
        "## Enoncé"
      ]
    },
    {
      "cell_type": "markdown",
      "id": "6e37c145",
      "metadata": {
        "id": "6e37c145"
      },
      "source": [
        "You need to create a program that retrieves all the uppercase letters from a specific text input. However, if there are no uppercase letters found, the program should print the constant value ``None``. Players must reverse engineer the code to find the original uppercase letters or determine that there are none.\n",
        "\n",
        "### Entrée\n",
        "``string``\n",
        "\n",
        "### Sortie\n",
        "``string``\n",
        "\n",
        "### Contraintes\n",
        "\n",
        "### Exemple\n",
        "#### Entrée\n",
        "\n",
        "``abcdABCD``\n",
        "\n",
        "#### Sortie\n",
        "\n",
        "``ABCD``\n",
        "\n"
      ]
    },
    {
      "cell_type": "markdown",
      "id": "d76faa53",
      "metadata": {
        "id": "d76faa53"
      },
      "source": [
        "### A vous de jouer !"
      ]
    },
    {
      "cell_type": "code",
      "execution_count": null,
      "id": "19e201af",
      "metadata": {
        "id": "19e201af"
      },
      "outputs": [],
      "source": [
        "s = \"abcdABCD\"\n",
        "\n",
        "# Votre code ici..."
      ]
    },
    {
      "cell_type": "markdown",
      "id": "e54e7609",
      "metadata": {
        "id": "e54e7609"
      },
      "source": [
        "## Solutions"
      ]
    },
    {
      "cell_type": "markdown",
      "id": "6846fef3",
      "metadata": {
        "id": "6846fef3"
      },
      "source": [
        "### Correction classique"
      ]
    },
    {
      "cell_type": "code",
      "execution_count": null,
      "id": "dbfb9a30",
      "metadata": {
        "id": "dbfb9a30"
      },
      "outputs": [],
      "source": [
        "#s = input()\n",
        "s = \"abcdABCD\"\n",
        "\n",
        "upper_char=0\n",
        "\n",
        "for c in s:\n",
        "  if c.isupper():\n",
        "    print(c,end='')\n",
        "    upper_char+=1\n",
        "\n",
        "if upper_char==0:\n",
        "  print('None')"
      ]
    },
    {
      "cell_type": "markdown",
      "id": "22cc37f2",
      "metadata": {
        "id": "22cc37f2"
      },
      "source": [
        "### Autre solution"
      ]
    },
    {
      "cell_type": "code",
      "execution_count": null,
      "id": "640a8c4d",
      "metadata": {
        "id": "640a8c4d"
      },
      "outputs": [],
      "source": [
        "#s = input()\n",
        "s = \"abcdABCD\"\n",
        "\n",
        "uppercase_letters = []\n",
        "for letter in s:\n",
        "  if letter in \"ABCDEFGHIJKLMNOPQRSTUVWXYZ\":\n",
        "    uppercase_letters.append(letter)\n",
        "\n",
        "if len(uppercase_letters)==0:\n",
        "  print(\"None\")\n",
        "else:\n",
        "  print(\"\".join(uppercase_letters))"
      ]
    },
    {
      "cell_type": "markdown",
      "id": "4a464faf",
      "metadata": {
        "id": "4a464faf"
      },
      "source": [
        "### Encore une autre solution"
      ]
    },
    {
      "cell_type": "code",
      "execution_count": null,
      "id": "87f74ae7",
      "metadata": {
        "id": "87f74ae7"
      },
      "outputs": [],
      "source": [
        "#s = input()\n",
        "s = \"abcdABCD\"\n",
        "\n",
        "uppercase_letters = \"\"\n",
        "for letter in s:\n",
        "  # la fonction ord() retourne le code unicode (de la table ascii) d'un charactère\n",
        "  # (ord('A') = 65 et ord('Z') = 90, donc entre 65 et 90 nous sommes entre 'A' et 'Z')\n",
        "  if 64 < ord(letter) < 91 :\n",
        "    uppercase_letters += letter\n",
        "\n",
        "if uppercase_letters == \"\" :\n",
        "  print(None)\n",
        "else :\n",
        "  print(uppercase_letters)"
      ]
    },
    {
      "cell_type": "markdown",
      "id": "ca47ce8b",
      "metadata": {
        "id": "ca47ce8b"
      },
      "source": [
        "### Correction avec fonction"
      ]
    },
    {
      "cell_type": "code",
      "execution_count": null,
      "id": "c53250fa",
      "metadata": {
        "id": "c53250fa"
      },
      "outputs": [],
      "source": [
        "def only_uppercase_letters(string):\n",
        "  # Début de votre code ici\n",
        "  uppercase_letters = []\n",
        "  for letter in string:\n",
        "    if letter.isalpha() and letter == letter.upper():\n",
        "      uppercase_letters.append(letter)\n",
        "\n",
        "  if (len(uppercase_letters) == 0):\n",
        "    return \"None\"\n",
        "  else:\n",
        "    return ''.join(uppercase_letters)\n",
        "  # Fin de votre code ici\n",
        "\n",
        "#s = input()\n",
        "s = \"abcdABCD\"\n",
        "print(only_uppercase_letters(s))"
      ]
    },
    {
      "cell_type": "markdown",
      "id": "d40ad9eb",
      "metadata": {
        "id": "d40ad9eb"
      },
      "source": [
        "# Mini-Calculatrice\n",
        "**Niveau de difficulté :** 🟠 Moyen  \n",
        "\n",
        "**Notions algorithmiques abordées :** boucle, condition, opérations arithmétiques"
      ]
    },
    {
      "cell_type": "markdown",
      "id": "ac0d099a",
      "metadata": {
        "id": "ac0d099a"
      },
      "source": [
        "## Enoncé"
      ]
    },
    {
      "cell_type": "markdown",
      "id": "0b3f88c1",
      "metadata": {
        "id": "0b3f88c1"
      },
      "source": [
        "Ben, here, needs a calculator to calculate ``+``, ``-``, ``*``, ``/`` for two one-digit numbers. Please help him design a calculator to solve his problem.\n",
        "\n",
        "** No divisions by zero will appear in the test cases **\n",
        "\n",
        "### Entrée\n",
        "Line 1: A line line that contains a one-digit number ``a``, an ``operator``, and another one-digit number ``b``.\n",
        "### Sortie\n",
        "Line 1: The result of the operation, rounded to the nearest integer.\n",
        "### Contraintes\n",
        "0 <= ``a`` <= 9\n",
        "0 <= ``b`` <= 9\n",
        "### Exemple\n",
        "#### Entrée\n",
        "``1*3``\n",
        "#### Sortie\n",
        "``3``"
      ]
    },
    {
      "cell_type": "markdown",
      "id": "66d85700",
      "metadata": {
        "id": "66d85700"
      },
      "source": [
        "### A vous de jouer !"
      ]
    },
    {
      "cell_type": "code",
      "execution_count": null,
      "id": "24b6e726",
      "metadata": {
        "id": "24b6e726"
      },
      "outputs": [],
      "source": [
        "line = \"6*7\"\n",
        "\n",
        "# Votre code ici..."
      ]
    },
    {
      "cell_type": "markdown",
      "id": "36fc6eae",
      "metadata": {
        "id": "36fc6eae"
      },
      "source": [
        "## Solutions"
      ]
    },
    {
      "cell_type": "markdown",
      "id": "fa4c1816",
      "metadata": {
        "id": "fa4c1816"
      },
      "source": [
        "### Correction classique"
      ]
    },
    {
      "cell_type": "code",
      "execution_count": null,
      "id": "1d3823ec",
      "metadata": {
        "id": "1d3823ec"
      },
      "outputs": [],
      "source": [
        "import math\n",
        "\n",
        "# line = input()\n",
        "line = \"6*7\"\n",
        "\n",
        "print(line[0])\n",
        "print(line[1])\n",
        "print(line[2])\n",
        "\n",
        "if line[1] == '*':\n",
        "    print (int(line[0]) * int(line[2]))\n",
        "elif line[1] == '-':\n",
        "    print (int(line[0]) - int(line[2]))\n",
        "elif line[1] == '+':\n",
        "    print (int(line[0]) + int(line[2]))\n",
        "else:\n",
        "    print (math.ceil(int(line[0]) / int(line[2])))"
      ]
    },
    {
      "cell_type": "markdown",
      "id": "d71b4457",
      "metadata": {
        "id": "d71b4457"
      },
      "source": [
        "### Correction avec fonction (et avec le match / case)\n",
        "https://www.freecodecamp.org/news/python-switch-statement-switch-case-example/"
      ]
    },
    {
      "cell_type": "code",
      "execution_count": null,
      "id": "c669c0ed",
      "metadata": {
        "id": "c669c0ed"
      },
      "outputs": [],
      "source": [
        "import math\n",
        "\n",
        "def calc (input):\n",
        "  match line[1]:\n",
        "    case '*':\n",
        "      return (int(line[0]) * int(line[2]))\n",
        "    case '-':\n",
        "      return (int(line[0]) - int(line[2]))\n",
        "    case '+':\n",
        "      return (int(line[0]) + int(line[2]))\n",
        "    case _:\n",
        "      return (math.ceil(int(line[0]) / int(line[2])))\n",
        "\n",
        "# line = input()\n",
        "line = \"6*7\"\n",
        "print(calc(line))"
      ]
    },
    {
      "cell_type": "markdown",
      "id": "e1c6d724",
      "metadata": {
        "id": "e1c6d724"
      },
      "source": [
        "### Correction pour les maîtres python"
      ]
    },
    {
      "cell_type": "code",
      "execution_count": null,
      "id": "5faa3164",
      "metadata": {
        "id": "5faa3164"
      },
      "outputs": [],
      "source": [
        "# line = input()\n",
        "line = \"6*7\"\n",
        "\n",
        "print (math.ceil(eval(line)))"
      ]
    },
    {
      "cell_type": "markdown",
      "id": "748e27d8",
      "metadata": {
        "id": "748e27d8"
      },
      "source": [
        "# Remboursement d'emprunt\n",
        "**Niveau de difficulté :** 🟢 Facile\n",
        "\n",
        "\n",
        "**Notions algorithmiques abordées :** boucle\n"
      ]
    },
    {
      "cell_type": "markdown",
      "id": "92bdd905",
      "metadata": {
        "id": "92bdd905"
      },
      "source": [
        "## Enoncé"
      ]
    },
    {
      "cell_type": "markdown",
      "id": "8b555b6b",
      "metadata": {
        "id": "8b555b6b"
      },
      "source": [
        "You borrowed ``N`` dollars from the bank. The compound interest accrues ``I`` % each month. You will pay the interest in ``M`` months. Then how many $s you have to pay to the bank after ``M`` months ?\n",
        "\n",
        "The result will be always an integer.\n",
        "\n",
        "### Entrée\n",
        "Line 1: Integers ``N``, ``I``, ``M``\n",
        "### Sortie\n",
        "Line 1: The amount of the money you have to pay to the bank\n",
        "### Contraintes\n",
        "0 ≤ ``N`` ≤ 10000\n",
        "0 ≤ ``I`` ≤ 100\n",
        "0 ≤ ``M`` ≤ 12\n",
        "0 ≤ the result ≤ 10000\n",
        "### Exemple\n",
        "#### Entrée\n",
        "``200 50 2``\n",
        "#### Sortie\n",
        "``450``"
      ]
    },
    {
      "cell_type": "markdown",
      "id": "eb0ccdf5",
      "metadata": {
        "id": "eb0ccdf5"
      },
      "source": [
        "### A vous de jouer !"
      ]
    },
    {
      "cell_type": "code",
      "execution_count": null,
      "id": "7faa28b0",
      "metadata": {
        "id": "7faa28b0"
      },
      "outputs": [],
      "source": [
        "input = \"200 50 2\"\n",
        "\n",
        "# Votre code ici..."
      ]
    },
    {
      "cell_type": "markdown",
      "id": "c29e771c",
      "metadata": {
        "id": "c29e771c"
      },
      "source": [
        "## Solutions"
      ]
    },
    {
      "cell_type": "markdown",
      "id": "e7693796",
      "metadata": {
        "id": "e7693796"
      },
      "source": [
        "### Correction classique"
      ]
    },
    {
      "cell_type": "code",
      "execution_count": null,
      "id": "1a9b913c",
      "metadata": {
        "id": "1a9b913c"
      },
      "outputs": [],
      "source": [
        "input = \"200 50 2\"\n",
        "print (input)\n",
        "print (input.split())\n",
        "#for i in input.split():\n",
        "#  print (int(i))\n",
        "print ([int(i) for i in input.split()])\n",
        "n, i, m = [int(i) for i in input.split()]\n",
        "print(n, i, m)\n",
        "\n",
        "# n, i, m = [int(i) for i in input().split()]\n",
        "n, i, m = 200, 50, 2\n",
        "\n",
        "for j in range(m):\n",
        "    n+=n*i/100\n",
        "    # n = n + n*i/100\n",
        "\n",
        "print(int(n))"
      ]
    },
    {
      "cell_type": "markdown",
      "id": "cd152322",
      "metadata": {
        "id": "cd152322"
      },
      "source": [
        "### Correction avec fonction"
      ]
    },
    {
      "cell_type": "code",
      "execution_count": null,
      "id": "bd192bbf",
      "metadata": {
        "id": "bd192bbf"
      },
      "outputs": [],
      "source": [
        "def bank(sum, interest, month):\n",
        "  for j in range(month):\n",
        "    sum+=sum*interest/100\n",
        "  return int(sum)\n",
        "\n",
        "print(bank(200, 50, 2))"
      ]
    },
    {
      "cell_type": "markdown",
      "id": "4d14ab21",
      "metadata": {
        "id": "4d14ab21"
      },
      "source": [
        "### Correction pour les traders\n",
        "https://www.monpetitplacement.fr/epargne/calcul-interets"
      ]
    },
    {
      "cell_type": "code",
      "execution_count": null,
      "id": "0659bc87",
      "metadata": {
        "id": "0659bc87"
      },
      "outputs": [],
      "source": [
        "# n, i, m = [int(i) for i in input().split()]\n",
        "n, i, m = 200, 50, 2\n",
        "\n",
        "print (round(n * (i / 100 + 1) ** m))"
      ]
    },
    {
      "cell_type": "markdown",
      "id": "ed8c2bd8",
      "metadata": {
        "id": "ed8c2bd8"
      },
      "source": [
        "# Diviseurs d'un nombre\n",
        "**Niveau de difficulté :** 🟢 Facile\n",
        "\n",
        "\n",
        "**Notions algorithmiques abordées :** condition, divisibilité"
      ]
    },
    {
      "cell_type": "markdown",
      "id": "6a00096c",
      "metadata": {
        "id": "6a00096c"
      },
      "source": [
        "## Enoncé"
      ]
    },
    {
      "cell_type": "markdown",
      "id": "159f4bc6",
      "metadata": {
        "id": "159f4bc6"
      },
      "source": [
        "Given an integer ``N``, give all its divisors in decreasing order.\n",
        "### Entrée\n",
        "Line 1: An integer ``N``\n",
        "### Sortie\n",
        "Line 1: all divisors (space separated)\n",
        "### Contraintes\n",
        "1 ≤ ``N`` < 100000\n",
        "### Exemple\n",
        "#### Entrée\n",
        "``6``\n",
        "#### Sortie\n",
        "``6 3 2 1``"
      ]
    },
    {
      "cell_type": "markdown",
      "id": "cfe7a718",
      "metadata": {
        "id": "cfe7a718"
      },
      "source": [
        "### A vous de jouer !"
      ]
    },
    {
      "cell_type": "code",
      "execution_count": null,
      "id": "8621237e",
      "metadata": {
        "id": "8621237e"
      },
      "outputs": [],
      "source": [
        "n = int(\"6\")\n",
        "\n",
        "# Votre code ici..."
      ]
    },
    {
      "cell_type": "markdown",
      "id": "23d482cf",
      "metadata": {
        "id": "23d482cf"
      },
      "source": [
        "## Solutions"
      ]
    },
    {
      "cell_type": "markdown",
      "id": "e1b93ea2",
      "metadata": {
        "id": "e1b93ea2"
      },
      "source": [
        "### Correction classique"
      ]
    },
    {
      "cell_type": "code",
      "execution_count": null,
      "id": "82894546",
      "metadata": {
        "id": "82894546"
      },
      "outputs": [],
      "source": [
        "#n = int(input())\n",
        "n = int(\"6\")\n",
        "\n",
        "result = []\n",
        "for i in range(n, 0, -1):\n",
        "  print(i)\n",
        "  if n // i == n / i:\n",
        "    result.append(str(i))\n",
        "    print(result)\n",
        "\n",
        "print(\" \".join(result))"
      ]
    },
    {
      "cell_type": "markdown",
      "id": "89968938",
      "metadata": {
        "id": "89968938"
      },
      "source": [
        "### Autre solution"
      ]
    },
    {
      "cell_type": "code",
      "execution_count": null,
      "id": "9ae1319d",
      "metadata": {
        "colab": {
          "base_uri": "https://localhost:8080/"
        },
        "id": "9ae1319d",
        "outputId": "0206b9c8-5de4-4e6b-9d63-b3c2af28b5b6"
      },
      "outputs": [
        {
          "name": "stdout",
          "output_type": "stream",
          "text": [
            "6 3 2 1\n"
          ]
        }
      ],
      "source": [
        "#n = int(input())\n",
        "n = int(\"6\")\n",
        "\n",
        "for i in range(n-1):\n",
        "  if n%(n-i)==0:\n",
        "    print(n-i,end=' ')\n",
        "print(1)"
      ]
    },
    {
      "cell_type": "markdown",
      "id": "ed3776b0",
      "metadata": {
        "id": "ed3776b0"
      },
      "source": [
        "### Correction avec fonction"
      ]
    },
    {
      "cell_type": "code",
      "execution_count": null,
      "id": "243190cc",
      "metadata": {
        "colab": {
          "base_uri": "https://localhost:8080/"
        },
        "id": "243190cc",
        "outputId": "710e0604-16b7-46a0-e2f7-930cb9ef70dc"
      },
      "outputs": [
        {
          "name": "stdout",
          "output_type": "stream",
          "text": [
            "6 3 2 1\n"
          ]
        }
      ],
      "source": [
        "def divisors(number):\n",
        "  result = []\n",
        "  for i in range(1, n+1):\n",
        "    if n%i==0:\n",
        "      result.append(str(i))\n",
        "  return \" \".join(sorted(result, reverse=True))\n",
        "\n",
        "#n = int(input())\n",
        "n = int(\"6\")\n",
        "print (divisors(n))"
      ]
    },
    {
      "cell_type": "markdown",
      "id": "51e0e041",
      "metadata": {
        "id": "51e0e041"
      },
      "source": []
    },
    {
      "cell_type": "markdown",
      "id": "f78b5f1a",
      "metadata": {
        "id": "f78b5f1a"
      },
      "source": [
        "# Inversion de lettres\n",
        "**Niveau de difficulté :** 🟠 Moyen  \n",
        "**Notions algorithmiques abordées :** chaînes de caractères, condition, manipulation de chaînes, opérations arithmétiques"
      ]
    },
    {
      "cell_type": "markdown",
      "id": "239d5f5a",
      "metadata": {
        "id": "239d5f5a"
      },
      "source": [
        "## Enoncé"
      ]
    },
    {
      "cell_type": "markdown",
      "id": "80c3732f",
      "metadata": {
        "id": "80c3732f"
      },
      "source": [
        "Votre programme doit inverser les lettres de chaque mot d'une phrase donnée en entrée.\n",
        "\n",
        "### Entrée\n",
        "Ligne 1 : Une chaîne de caractères ``S``.\n",
        "\n",
        "### Sortie\n",
        "Une chaîne de caractères dans lequel les caractères de chaques mots séparés par des espaces ont été inversé.\n",
        "\n",
        "### Contraintes\n",
        "``S`` contient au moins 1 caractère.\n",
        "\n",
        "``S`` contient uniquement des caractères alpha-numériques et des espaces.\n",
        "\n",
        "``S`` ne contient pas plusieurs espaces à la suite ni de tabulations.\n",
        "\n",
        "### Exemple\n",
        "#### Entrée\n",
        "``Hello World``\n",
        "#### Sortie\n",
        "``olleH dlroW``\n"
      ]
    },
    {
      "cell_type": "markdown",
      "id": "b6b09a2e",
      "metadata": {
        "id": "b6b09a2e"
      },
      "source": [
        "### A vous de jouer !"
      ]
    },
    {
      "cell_type": "code",
      "execution_count": null,
      "id": "54dfbec0",
      "metadata": {
        "id": "54dfbec0"
      },
      "outputs": [],
      "source": [
        "s = \"Hello World\"\n",
        "\n",
        "# Votre code ici..."
      ]
    },
    {
      "cell_type": "markdown",
      "id": "b9f7d6ef",
      "metadata": {
        "id": "b9f7d6ef"
      },
      "source": [
        "## Solutions"
      ]
    },
    {
      "cell_type": "markdown",
      "metadata": {
        "id": "Ykt3AoCZypgR"
      },
      "source": [
        "### Correction classique"
      ],
      "id": "Ykt3AoCZypgR"
    },
    {
      "cell_type": "code",
      "execution_count": null,
      "id": "de7e3d23",
      "metadata": {
        "id": "de7e3d23"
      },
      "outputs": [],
      "source": [
        "# string = input()\n",
        "string = \"Hello World !!!\"\n",
        "\n",
        "reverse_string_case = []\n",
        "for letter in string:\n",
        "  if letter.isupper():\n",
        "    reverse_string_case.append(letter.lower())\n",
        "  else:\n",
        "    reverse_string_case.append(letter.upper())\n",
        "\n",
        "print(reverse_string_case)\n",
        "print(reverse_string_case[::-1])\n",
        "print(''.join(reverse_string_case[::-1]))"
      ]
    },
    {
      "cell_type": "markdown",
      "id": "79484e4e",
      "metadata": {
        "id": "79484e4e"
      },
      "source": [
        "### Correction avec fonction"
      ]
    },
    {
      "cell_type": "code",
      "execution_count": null,
      "id": "ddd2e02e",
      "metadata": {
        "id": "ddd2e02e"
      },
      "outputs": [],
      "source": [
        "def reverse_case_string(s):\n",
        "  # Début de votre code ici\n",
        "  print(s)\n",
        "  s=s.swapcase()\n",
        "  print(s)\n",
        "  l=list(s)\n",
        "  print(l)\n",
        "  l=reversed(l)\n",
        "  return''.join(l)\n",
        "  # Fin de votre code ici\n",
        "\n",
        "# string = input()\n",
        "string = \"Hello World !!!\"\n",
        "print(reverse_case_string(string))"
      ]
    },
    {
      "cell_type": "markdown",
      "id": "c022762b",
      "metadata": {
        "id": "c022762b"
      },
      "source": [
        "### Correction pour les maîtres python"
      ]
    },
    {
      "cell_type": "code",
      "execution_count": null,
      "id": "9ced844e",
      "metadata": {
        "id": "9ced844e"
      },
      "outputs": [],
      "source": [
        "# string = input()\n",
        "string = \"Hello World !!!\"\n",
        "\n",
        "print(string.swapcase()[::-1])"
      ]
    },
    {
      "cell_type": "markdown",
      "id": "7b5eaa3e",
      "metadata": {
        "id": "7b5eaa3e"
      },
      "source": [
        "# Poids de voyelles\n",
        "**Niveau de difficulté :** 🟢 Facile\n",
        "\n",
        "**Notions algorithmiques abordées :** boucle, chaînes de caractères"
      ]
    },
    {
      "cell_type": "markdown",
      "id": "65860668",
      "metadata": {
        "id": "65860668"
      },
      "source": [
        "## Enoncé"
      ]
    },
    {
      "cell_type": "markdown",
      "id": "9cdecd22",
      "metadata": {
        "id": "9cdecd22"
      },
      "source": [
        "The Birds Language has only one rule: after each vowel (``a``,``e``,``i``,``o``,``u``,``A``,``E``,``I``,``O``,``U``) you should insert the letter p followed by the vowel one more time. For a given string convert it to Birds Language.\n",
        "### Entrée\n",
        "string ``A`` string which contains ASCII characters.\n",
        "### Sortie\n",
        "string converted to Birds Language.\n",
        "### Contraintes\n",
        "1 < length of string < 1000\n",
        "### Exemple\n",
        "#### Entrée\n",
        "``alex``\n",
        "#### Sortie\n",
        "``apalepex``"
      ]
    },
    {
      "cell_type": "markdown",
      "id": "4e799b43",
      "metadata": {
        "id": "4e799b43"
      },
      "source": [
        "### A vous de jouer !"
      ]
    },
    {
      "cell_type": "code",
      "execution_count": null,
      "id": "2025f2ee",
      "metadata": {
        "id": "2025f2ee"
      },
      "outputs": [],
      "source": [
        "string = \"alex\"\n",
        "\n",
        "# Votre code ici..."
      ]
    },
    {
      "cell_type": "markdown",
      "id": "8e06ea39",
      "metadata": {
        "id": "8e06ea39"
      },
      "source": [
        "## Solutions"
      ]
    },
    {
      "cell_type": "markdown",
      "id": "406ff4c1",
      "metadata": {
        "id": "406ff4c1"
      },
      "source": [
        "### Correction classique"
      ]
    },
    {
      "cell_type": "code",
      "execution_count": null,
      "id": "8f880e66",
      "metadata": {
        "id": "8f880e66"
      },
      "outputs": [],
      "source": [
        "# string = input()\n",
        "string = \"loic\"\n",
        "\n",
        "vowels = [\"a\",\"e\",\"i\",\"o\",\"u\",\"A\",\"E\",\"I\",\"O\",\"U\"]\n",
        "for letter in string:\n",
        "  if letter in vowels:\n",
        "    print(letter + \"p\" + letter, end=\"\")\n",
        "  else:\n",
        "    print(letter, end=\"\")"
      ]
    },
    {
      "cell_type": "markdown",
      "id": "60755b3e",
      "metadata": {
        "id": "60755b3e"
      },
      "source": [
        "### Correction avec fonctions"
      ]
    },
    {
      "cell_type": "code",
      "execution_count": null,
      "id": "7d06e728",
      "metadata": {
        "id": "7d06e728"
      },
      "outputs": [],
      "source": [
        "def birds_language(message):\n",
        "  bird_message = ''\n",
        "  for letter in message:\n",
        "    if letter in 'aeiouAEIOU':\n",
        "      bird_message += letter+'p'+letter\n",
        "    else:\n",
        "      bird_message += letter\n",
        "    print(bird_message)\n",
        "  return bird_message\n",
        "\n",
        "print(birds_language(\"julien\"))"
      ]
    },
    {
      "cell_type": "markdown",
      "id": "749f6726",
      "metadata": {
        "id": "749f6726"
      },
      "source": [
        "### Correction pour les maîtres python"
      ]
    },
    {
      "cell_type": "code",
      "execution_count": null,
      "id": "b7640fee",
      "metadata": {
        "id": "b7640fee"
      },
      "outputs": [],
      "source": [
        "# string = input()\n",
        "string = \"nicolas priniotakis\"\n",
        "\n",
        "print (\"\".join(letter+\"p\"+letter if (letter in 'aeiouAEIOU') else letter for letter in string))"
      ]
    },
    {
      "cell_type": "markdown",
      "id": "b75145ab",
      "metadata": {
        "id": "b75145ab"
      },
      "source": [
        "# Test de palindrome\n",
        "**Niveau de difficulté :** 🔴 Difficile\n",
        "\n",
        "**Notions algorithmiques abordées :** chaînes de caractères, condition, test de palindrome"
      ]
    },
    {
      "cell_type": "markdown",
      "id": "43805d13",
      "metadata": {
        "id": "43805d13"
      },
      "source": [
        "## Enoncé"
      ]
    },
    {
      "cell_type": "markdown",
      "id": "00ac72f7",
      "metadata": {
        "id": "00ac72f7"
      },
      "source": [
        "A word is a palindrome if it is the same word when you read it from right to left or from left to right.\n",
        "\n",
        "Check if the given string word is a palindrome or no\n",
        "\n",
        "Please ignore case of letters : e.g Radar = radaR is a palindrome\n",
        "\n",
        "Our algorithm must return the result ``palindrome``, ``not palindrome`` or ``invalid``.\n",
        "\n",
        "The word is considered ``invalid`` when it contains a number\n",
        "\n",
        "### Entrée\n",
        "Line 1: ``word`` is an input of type string.\n",
        "### Sortie\n",
        "Line 1: Result representing if ``word`` is a palindrome (``palindrome`` or ``not palindrome`` or ``invalid``)\n",
        "### Contraintes\n",
        "2 < word.length < 100\n",
        "### Exemple\n",
        "#### Entrée\n",
        "``ada``\n",
        "#### Sortie\n",
        "``palindrome``"
      ]
    },
    {
      "cell_type": "markdown",
      "id": "f2170736",
      "metadata": {
        "id": "f2170736"
      },
      "source": [
        "### A vous de jouer !"
      ]
    },
    {
      "cell_type": "code",
      "execution_count": null,
      "id": "9b295c17",
      "metadata": {
        "id": "9b295c17"
      },
      "outputs": [],
      "source": [
        "word = \"ada\"\n",
        "\n",
        "# Votre code ici..."
      ]
    },
    {
      "cell_type": "markdown",
      "id": "20c47064",
      "metadata": {
        "id": "20c47064"
      },
      "source": [
        "## Solutions"
      ]
    },
    {
      "cell_type": "markdown",
      "id": "e032d1d2",
      "metadata": {
        "id": "e032d1d2"
      },
      "source": [
        "### Correction classique"
      ]
    },
    {
      "cell_type": "code",
      "execution_count": null,
      "id": "657db120",
      "metadata": {
        "id": "657db120"
      },
      "outputs": [],
      "source": [
        "#word = input()\n",
        "word = \"Radar\"\n",
        "\n",
        "word = word.lower()\n",
        "print(word)\n",
        "\n",
        "if (word.isalpha()):\n",
        "  if (word == word[::-1]):\n",
        "    print(\"palindrome\")\n",
        "  else:\n",
        "    print(\"not palindrome\")\n",
        "else:\n",
        "  print(\"invalid\")\n"
      ]
    },
    {
      "cell_type": "markdown",
      "id": "0924d109",
      "metadata": {
        "id": "0924d109"
      },
      "source": [
        "### Correction avec fonction"
      ]
    },
    {
      "cell_type": "code",
      "execution_count": null,
      "id": "83bbc065",
      "metadata": {
        "id": "83bbc065"
      },
      "outputs": [],
      "source": [
        "def is_palindrome(word):\n",
        "  is_alpha = True\n",
        "  for letter in word:\n",
        "    if letter in \"0123456789\":\n",
        "      is_alpha = False\n",
        "\n",
        "  if (is_alpha == True):\n",
        "    if (word[:len(word)//2].lower() == word[:len(word)//2:-1].lower()):\n",
        "      return \"palindrome\"\n",
        "    else:\n",
        "      return \"not palindrome\"\n",
        "  else:\n",
        "    return \"invalid\"\n",
        "\n",
        "print(is_palindrome(\"Radar\"))"
      ]
    },
    {
      "cell_type": "markdown",
      "id": "16efab62",
      "metadata": {
        "id": "16efab62"
      },
      "source": [
        "### Correction pour les maîtres python"
      ]
    },
    {
      "cell_type": "code",
      "execution_count": null,
      "id": "e6f8bf7e",
      "metadata": {
        "id": "e6f8bf7e"
      },
      "outputs": [],
      "source": [
        "#word = input()\n",
        "word = \"Radar\"\n",
        "\n",
        "print (\"invalid\" if (not(word.isalpha())) else \"palindrome\" if (word.lower() == word[::-1].lower()) else \"not palindrome\")"
      ]
    },
    {
      "cell_type": "markdown",
      "id": "a8523f1c",
      "metadata": {
        "id": "a8523f1c"
      },
      "source": [
        "# Moyenne de valeurs\n",
        "**Niveau de difficulté :** 🟠 Moyen  \n",
        "**Notions algorithmiques abordées :** accumulateur / somme, boucle, condition, opérations arithmétiques, statistiques"
      ]
    },
    {
      "cell_type": "markdown",
      "id": "62ff4c06",
      "metadata": {
        "id": "62ff4c06"
      },
      "source": [
        "## Enoncé"
      ]
    },
    {
      "cell_type": "markdown",
      "id": "5ef89817",
      "metadata": {
        "id": "5ef89817"
      },
      "source": [
        "The arithmetic mean (or mean or average) is the most commonly used and readily understood measure of central tendency. In statistics, the term average refers to any of the measures of central tendency. The arithmetic mean is defined as being equal to the sum of the numerical values of each and every observation divided by the total number of observations.\n",
        "\n",
        "For this mission, you are given a non-empty list of natural numbers. You must compute their arithmetic mean.\n",
        "\n",
        "### Entrée\n",
        "Line 1: The number of values in the list, ``N``\n",
        "\n",
        "Line 2: ``N`` space separated integers (each called ``X``)\n",
        "### Sortie\n",
        "Line 1: The arithmetic mean of the list as a float or an integer\n",
        "\n",
        "### Contraintes\n",
        "2 ≤ ``N`` ≤ 100\n",
        "\n",
        "-1000 < ``X`` < 1000\n",
        "### Exemple\n",
        "#### Entrée\n",
        "``10``\n",
        "\n",
        "``1 10 2 9 3 8 4 7 5 6``\n",
        "#### Sortie\n",
        "``5.5``"
      ]
    },
    {
      "cell_type": "markdown",
      "id": "4e1ca12c",
      "metadata": {
        "id": "4e1ca12c"
      },
      "source": [
        "### A vous de jouer !"
      ]
    },
    {
      "cell_type": "code",
      "execution_count": null,
      "id": "ded0ad08",
      "metadata": {
        "id": "ded0ad08"
      },
      "outputs": [],
      "source": [
        "input_line_1 = \"10\"\n",
        "input_line_2 = \"1 10 2 9 3 8 4 7 5 6\"\n",
        "\n",
        "# Votre code ici..."
      ]
    },
    {
      "cell_type": "markdown",
      "id": "5c4e3f83",
      "metadata": {
        "id": "5c4e3f83"
      },
      "source": [
        "## Solutions"
      ]
    },
    {
      "cell_type": "markdown",
      "id": "4a25eada",
      "metadata": {
        "id": "4a25eada"
      },
      "source": [
        "### Correction classique"
      ]
    },
    {
      "cell_type": "code",
      "execution_count": null,
      "id": "1ae40b5b",
      "metadata": {
        "id": "1ae40b5b"
      },
      "outputs": [],
      "source": [
        "import sys\n",
        "import math\n",
        "\n",
        "input_line_1 = \"10\"\n",
        "input_line_2 = \"1 10 2 9 3 8 4 7 5 6\"\n",
        "\n",
        "sum = 0\n",
        "#n = int(input())\n",
        "n = int(input_line_1)\n",
        "print(input_line_1)\n",
        "\n",
        "print(input_line_2.split())\n",
        "#for i in input().split():\n",
        "for i in input_line_2.split():\n",
        "    sum += int(i)\n",
        "    print(sum)\n",
        "\n",
        "print(sum//n)\n",
        "\n",
        "if (round(sum/n) == (sum/n)):\n",
        "    print (int(sum/n))\n",
        "else:\n",
        "    print(sum/n)"
      ]
    },
    {
      "cell_type": "markdown",
      "id": "43570e14",
      "metadata": {
        "id": "43570e14"
      },
      "source": [
        "### Correction avec fonction"
      ]
    },
    {
      "cell_type": "code",
      "execution_count": null,
      "id": "845f40cf",
      "metadata": {
        "id": "845f40cf"
      },
      "outputs": [],
      "source": [
        "import sys\n",
        "import math\n",
        "import statistics\n",
        "\n",
        "def mean(number_of_values, values_list):\n",
        "    # Début partie à coder dans Coderpad\n",
        "    sum = 0\n",
        "    n = int(number_of_values)\n",
        "    for i in values_list.split():\n",
        "        sum += int(i)\n",
        "    if (round(sum/n) == (sum/n)):\n",
        "        return(int(sum/n))\n",
        "    else:\n",
        "        return(sum/n)\n",
        "    # Fin partie à coder dans Coderpad\n",
        "\n",
        "input_line_1 = \"10\"\n",
        "input_line_2 = \"1 10 2 9 3 8 4 7 5 6\"\n",
        "\n",
        "result = mean(input_line_1, input_line_2)\n",
        "print(statistics.mean(map(int, input_line_2.split())))\n",
        "print(result)"
      ]
    },
    {
      "cell_type": "markdown",
      "id": "af5eb277",
      "metadata": {
        "id": "af5eb277"
      },
      "source": [
        "### Correction condensée\n"
      ]
    },
    {
      "cell_type": "code",
      "execution_count": null,
      "id": "29487b39",
      "metadata": {
        "id": "29487b39"
      },
      "outputs": [],
      "source": [
        "import sys\n",
        "import math\n",
        "import statistics\n",
        "\n",
        "input_line_1 = \"10\"\n",
        "input_line_2 = \"1 10 2 9 3 8 4 7 5 6\"\n",
        "\n",
        "print(statistics.mean(map(int, input_line_2.split())))"
      ]
    },
    {
      "cell_type": "markdown",
      "id": "f4648722",
      "metadata": {
        "id": "f4648722"
      },
      "source": [
        "# Déploiement militaire\n",
        "\n",
        "**Niveau de difficulté :** 🟢 Facile\n",
        "**Notions algorithmiques abordées :** chaînes de caractères, condition, opérations arithmétiques"
      ]
    },
    {
      "cell_type": "markdown",
      "id": "6195b139",
      "metadata": {
        "id": "6195b139"
      },
      "source": [
        "## Enoncé"
      ]
    },
    {
      "cell_type": "markdown",
      "id": "fd6ef0ac",
      "metadata": {
        "id": "fd6ef0ac"
      },
      "source": [
        "You are a general in the military and you should determine whether a person must go to the military or not, you will be given their age and gender, male M or female F.\n",
        "\n",
        "- print ``May go to the military`` if the person is 18-35 year old male\n",
        "\n",
        "- print ``Can't go to the military`` if the person is a female, or a male who is under 18\n",
        "\n",
        "- print ``Was already in the military`` if the person is a male who is over 35\n",
        "\n",
        "### Entrée\n",
        "Line 1: a string ``g``: their gender M or F\n",
        "\n",
        "Line 2: an integer ``a``: their age\n",
        "### Sortie\n",
        "``a`` string s: The status of the person\n",
        "### Contraintes\n",
        "100>``a``>0\n",
        "### Exemple\n",
        "#### Entrée\n",
        "``M``\n",
        "\n",
        "``9``\n",
        "#### Sortie\n",
        "``Can't go to the military``"
      ]
    },
    {
      "cell_type": "markdown",
      "id": "308bab49",
      "metadata": {
        "id": "308bab49"
      },
      "source": [
        "### A vous de jouer !"
      ]
    },
    {
      "cell_type": "code",
      "execution_count": null,
      "id": "a7161631",
      "metadata": {
        "id": "a7161631"
      },
      "outputs": [],
      "source": [
        "g='M'\n",
        "a=int(\"9\")\n",
        "\n",
        "# Votre code ici..."
      ]
    },
    {
      "cell_type": "markdown",
      "id": "8e9f4ec1",
      "metadata": {
        "id": "8e9f4ec1"
      },
      "source": [
        "## Solutions"
      ]
    },
    {
      "cell_type": "markdown",
      "id": "0d4acfb5",
      "metadata": {
        "id": "0d4acfb5"
      },
      "source": [
        "### Correction classique"
      ]
    },
    {
      "cell_type": "code",
      "execution_count": null,
      "id": "776d8403",
      "metadata": {
        "id": "776d8403"
      },
      "outputs": [],
      "source": [
        "#g=input()\n",
        "g='M'\n",
        "#a=int(input())\n",
        "a=int(\"9\")\n",
        "if(g=='F' or a<18):\n",
        "    print(\"Can't go to the military\")\n",
        "elif(a>35):\n",
        "    print(\"Was already in the military\")\n",
        "else:\n",
        "    print(\"May go to the military\")"
      ]
    },
    {
      "cell_type": "markdown",
      "id": "eb74a0ed",
      "metadata": {
        "id": "eb74a0ed"
      },
      "source": [
        "### Correction condensée"
      ]
    },
    {
      "cell_type": "code",
      "execution_count": null,
      "id": "eb86a2aa",
      "metadata": {
        "id": "eb86a2aa"
      },
      "outputs": [],
      "source": [
        "#g,a=input(),int(input())\n",
        "g,a='M',int(\"9\")\n",
        "m=\" the military\"\n",
        "t=\" go to\"+m\n",
        "print(\"Can't\"+t if g=='F'or a<18 else\"Was already in\"+m if a>35 else\"May\"+t)"
      ]
    },
    {
      "cell_type": "markdown",
      "id": "58aa79cc",
      "metadata": {
        "id": "58aa79cc"
      },
      "source": [
        "### Correction avec fonction"
      ]
    },
    {
      "cell_type": "code",
      "execution_count": null,
      "id": "09fd1f91",
      "metadata": {
        "id": "09fd1f91"
      },
      "outputs": [],
      "source": [
        "def military(gender,age):\n",
        "    m=\" the military\"\n",
        "    t=\" go to\"+m\n",
        "    return(\"Can't\"+t if g=='F'or a<18 else\"Was already in\"+m if a>35 else\"May\"+t)\n",
        "\n",
        "#g,a=input(),int(input())\n",
        "g,a='M',int(\"9\")\n",
        "print(military(g,a))"
      ]
    },
    {
      "cell_type": "markdown",
      "id": "57c5cbc6",
      "metadata": {
        "id": "57c5cbc6"
      },
      "source": [
        "# Consommation de sucre\n",
        "**Niveau de difficulté :** 🟠 Moyen  \n",
        "**Notions algorithmiques abordées :** boucle, condition"
      ]
    },
    {
      "cell_type": "markdown",
      "id": "598c73c2",
      "metadata": {
        "id": "598c73c2"
      },
      "source": [
        "## Enoncé"
      ]
    },
    {
      "cell_type": "markdown",
      "id": "72096ffb",
      "metadata": {
        "id": "72096ffb"
      },
      "source": [
        "Figure out how much suger Johny ate, given the ```time``` he hook in seconds and the ```speed``` he ate in at grams per minute.\n",
        "\n",
        "Example : If ```time``` is 30 ans ```speed``` is 20, you need to output 10\n",
        "\n",
        "### Entrée :\n",
        "\n",
        "Line 1: An integer ```time``` for the time Johny was eating sugar.\n",
        "\n",
        "Line 2: An integer ```speed``` for the speed he ate at in grams per minute.\n",
        "\n",
        "### Sortie :\n",
        "\n",
        "Line 1 : The amount in grams"
      ]
    },
    {
      "cell_type": "markdown",
      "id": "fc22455e",
      "metadata": {
        "id": "fc22455e"
      },
      "source": [
        "### A vous de jouer !"
      ]
    },
    {
      "cell_type": "code",
      "execution_count": null,
      "id": "f2e190fb",
      "metadata": {
        "id": "f2e190fb"
      },
      "outputs": [],
      "source": [
        "time = int(\"30\")\n",
        "speed = int(\"20\")\n",
        "\n",
        "# Votre code ici..."
      ]
    },
    {
      "cell_type": "markdown",
      "id": "1f4ab816",
      "metadata": {
        "id": "1f4ab816"
      },
      "source": [
        "## Solutions"
      ]
    },
    {
      "cell_type": "markdown",
      "id": "20fda3d9",
      "metadata": {
        "id": "20fda3d9"
      },
      "source": [
        "### Solution classique"
      ]
    },
    {
      "cell_type": "code",
      "execution_count": null,
      "id": "a6d80908",
      "metadata": {
        "id": "a6d80908"
      },
      "outputs": [],
      "source": [
        "#time = int(input())\n",
        "#speed = int(input())\n",
        "\n",
        "time = int(\"30\")\n",
        "speed = int(\"20\")\n",
        "\n",
        "print ((time * speed) // 60)\n",
        "# ou\n",
        "print (int((time * speed) / 60))"
      ]
    },
    {
      "cell_type": "markdown",
      "id": "e6c506ed",
      "metadata": {
        "id": "e6c506ed"
      },
      "source": [
        "# Reverse\n",
        "**Niveau de difficulté :** 🟠 Moyen  \n",
        "**Notions algorithmiques abordées :** manipulation de chaînes"
      ]
    },
    {
      "cell_type": "markdown",
      "id": "4484ac8e",
      "metadata": {
        "id": "4484ac8e"
      },
      "source": [
        "## Enoncé"
      ]
    },
    {
      "cell_type": "markdown",
      "id": "1e7dae2c",
      "metadata": {
        "id": "1e7dae2c"
      },
      "source": [
        "Le mode de jeu est REVERSE : Vous n'avez pas accès à l'énoncé. Vous devez trouver quoi faire en observant les jeux de tests suivants :\n",
        "\n",
        "### Entrée\n",
        "\n",
        "9\n",
        "\n",
        "### Sortie attendue\n",
        "\n",
        "1\n",
        "3\n",
        "5\n",
        "7\n",
        "9"
      ]
    },
    {
      "cell_type": "code",
      "execution_count": null,
      "id": "fff7bd0e",
      "metadata": {
        "id": "fff7bd0e"
      },
      "outputs": [],
      "source": [
        "n = int(\"9\")\n",
        "\n",
        "# Votre code ici..."
      ]
    },
    {
      "cell_type": "markdown",
      "id": "2457efb4",
      "metadata": {
        "id": "2457efb4"
      },
      "source": [
        "## Solutions"
      ]
    },
    {
      "cell_type": "markdown",
      "id": "8a4285fe",
      "metadata": {
        "id": "8a4285fe"
      },
      "source": [
        "### Solution Classique"
      ]
    },
    {
      "cell_type": "code",
      "execution_count": null,
      "id": "30e62311",
      "metadata": {
        "id": "30e62311"
      },
      "outputs": [],
      "source": [
        "# n = int(input())\n",
        "n = int(\"9\")\n",
        "\n",
        "for i in range(n+1):\n",
        "    if i%2 == 1:\n",
        "        print(i)"
      ]
    },
    {
      "cell_type": "markdown",
      "id": "54584fbe",
      "metadata": {
        "id": "54584fbe"
      },
      "source": [
        "# Chasse au trésor\n",
        "**Niveau de difficulté :** 🟠 Moyen\n",
        "**Notions algorithmiques abordées :** boucle, chaînes de caractères, condition, opérations arithmétiques, parcours de grille"
      ]
    },
    {
      "cell_type": "markdown",
      "id": "46505c91",
      "metadata": {
        "id": "46505c91"
      },
      "source": [
        "## Enoncé"
      ]
    },
    {
      "cell_type": "markdown",
      "id": "a188dc8b",
      "metadata": {
        "id": "a188dc8b"
      },
      "source": [
        "In a distant land, a treasure map is given to you in the form of a string. The string contains characters representing the directions to follow: N: North S: South E: East W: West Each character indicates a step in that direction. Your task is to determine the final coordinates of the treasure starting from the origin (0, 0). Moving N increases the y-coordinate by 1. Moving S decreases the y-coordinate by 1. Moving E increases the x-coordinate by 1. Moving W decreases the x-coordinate by 1. You need to output the final coordinates as a string in the format \"(x, y)\".\n",
        "\n",
        "### Entrée\n",
        "\n",
        "A single string containing characters N,S,E and W.\n",
        "\n",
        "### Sortie\n",
        "\n",
        "A string representing the final coordinates in the format (x,y)\". Contraintes Exemple Entrée NNESW Sortie (0,1)"
      ]
    },
    {
      "cell_type": "markdown",
      "id": "f8a16680",
      "metadata": {
        "id": "f8a16680"
      },
      "source": [
        "### A vous de jouer !"
      ]
    },
    {
      "cell_type": "code",
      "execution_count": null,
      "id": "cba91e3e",
      "metadata": {
        "id": "cba91e3e"
      },
      "outputs": [],
      "source": [
        "directions = \"NNESW\"\n",
        "\n",
        "# Votre code ici..."
      ]
    },
    {
      "cell_type": "markdown",
      "id": "4f203ff6",
      "metadata": {
        "id": "4f203ff6"
      },
      "source": [
        "## Solutions"
      ]
    },
    {
      "cell_type": "markdown",
      "id": "71ecf1b4",
      "metadata": {
        "id": "71ecf1b4"
      },
      "source": [
        "### Correction classique"
      ]
    },
    {
      "cell_type": "code",
      "execution_count": null,
      "id": "d2c691eb",
      "metadata": {
        "id": "d2c691eb"
      },
      "outputs": [],
      "source": [
        "#directions = input()\n",
        "directions = \"NNESW\"\n",
        "\n",
        "x,y=(0,0)\n",
        "for i in directions:\n",
        "  if i == \"N\":\n",
        "    y+=1\n",
        "  if i == \"S\":\n",
        "    y-=1\n",
        "  if i == \"E\":\n",
        "    x+=1\n",
        "  if i == \"W\":\n",
        "    x-=1\n",
        "print(f'({x},{y})')"
      ]
    }
  ],
  "metadata": {
    "language_info": {
      "name": "python"
    },
    "colab": {
      "provenance": [],
      "collapsed_sections": [
        "9c7c7bd7",
        "1f8cf04f",
        "2f1972e9",
        "15d18e4f",
        "71bb8c51",
        "gwfHAxmzV3oX",
        "1727cdd0",
        "959c70ed",
        "737b2d9b",
        "13c4692b",
        "4cc6a3a8",
        "aa3ed9a9",
        "3b3094ba",
        "deea779f",
        "1ce1c15d",
        "4ab3ed84",
        "4c3f2715",
        "e54e7609",
        "d40ad9eb",
        "ac0d099a",
        "36fc6eae",
        "748e27d8",
        "92bdd905",
        "c29e771c",
        "ed8c2bd8",
        "6a00096c",
        "23d482cf",
        "f78b5f1a",
        "239d5f5a",
        "b9f7d6ef",
        "7b5eaa3e",
        "65860668",
        "8e06ea39",
        "b75145ab",
        "43805d13",
        "20c47064",
        "a8523f1c",
        "62ff4c06",
        "5c4e3f83",
        "f4648722",
        "6195b139",
        "8e9f4ec1",
        "57c5cbc6",
        "598c73c2",
        "1f4ab816",
        "e6c506ed",
        "4484ac8e",
        "2457efb4",
        "54584fbe",
        "46505c91",
        "4f203ff6"
      ],
      "include_colab_link": true
    }
  },
  "nbformat": 4,
  "nbformat_minor": 5
}